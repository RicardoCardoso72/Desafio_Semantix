{
  "nbformat": 4,
  "nbformat_minor": 0,
  "metadata": {
    "colab": {
      "provenance": [],
      "authorship_tag": "ABX9TyPQ7bHBRe99KMWEIsUP2QgZ",
      "include_colab_link": true
    },
    "kernelspec": {
      "name": "python3",
      "display_name": "Python 3"
    },
    "language_info": {
      "name": "python"
    }
  },
  "cells": [
    {
      "cell_type": "markdown",
      "metadata": {
        "id": "view-in-github",
        "colab_type": "text"
      },
      "source": [
        "<a href=\"https://colab.research.google.com/github/RicardoCardoso72/Desafio_Semantix/blob/main/SemantixENEM2019.ipynb\" target=\"_parent\"><img src=\"https://colab.research.google.com/assets/colab-badge.svg\" alt=\"Open In Colab\"/></a>"
      ]
    },
    {
      "cell_type": "code",
      "source": [
        "import pandas as pd\n",
        "import numpy as np\n",
        "import seaborn as sns\n",
        "import matplotlib.pyplot as plt\n",
        "sns.set_theme()\n",
        "%matplotlib inline\n"
      ],
      "metadata": {
        "id": "PCegtDT5XwXo"
      },
      "execution_count": null,
      "outputs": []
    },
    {
      "cell_type": "code",
      "source": [
        "# Configuração de exibição\n",
        "pd.set_option('display.max_rows', 70)\n",
        "pd.set_option('display.max_columns', 70)\n"
      ],
      "metadata": {
        "id": "5V6Fm-JwYJSS"
      },
      "execution_count": null,
      "outputs": []
    },
    {
      "cell_type": "code",
      "source": [
        "from google.colab import drive\n",
        "drive.mount('/content/drive/')\n"
      ],
      "metadata": {
        "colab": {
          "base_uri": "https://localhost:8080/"
        },
        "id": "k0bY39i6YiWf",
        "outputId": "f2035a19-f8bb-4f12-92d9-2f8c2279457d"
      },
      "execution_count": null,
      "outputs": [
        {
          "output_type": "stream",
          "name": "stdout",
          "text": [
            "Drive already mounted at /content/drive/; to attempt to forcibly remount, call drive.mount(\"/content/drive/\", force_remount=True).\n"
          ]
        }
      ]
    },
    {
      "cell_type": "code",
      "source": [
        "caminho = '/content/drive/MyDrive/MICRODADOS_ENEM_2019.csv'"
      ],
      "metadata": {
        "id": "AFNMeiQqYxRQ"
      },
      "execution_count": null,
      "outputs": []
    },
    {
      "cell_type": "code",
      "source": [
        "micro_dados_enem = pd.read_csv(caminho, sep=';', encoding='ISO-8859-1')\n"
      ],
      "metadata": {
        "id": "SB4VU2QJZALv"
      },
      "execution_count": null,
      "outputs": []
    },
    {
      "cell_type": "code",
      "source": [
        "micro_dados_enem.head()\n"
      ],
      "metadata": {
        "colab": {
          "base_uri": "https://localhost:8080/",
          "height": 300
        },
        "id": "GQ3v6VgQZX4I",
        "outputId": "54e8aa25-a7d3-4b9d-b909-b748dcb958a0"
      },
      "execution_count": null,
      "outputs": [
        {
          "output_type": "execute_result",
          "data": {
            "text/plain": [
              "   NU_INSCRICAO  NU_ANO  TP_FAIXA_ETARIA TP_SEXO  TP_ESTADO_CIVIL  \\\n",
              "0  190001595656    2019               13       M                1   \n",
              "1  190001421546    2019                8       M                1   \n",
              "2  190001133210    2019               13       F                1   \n",
              "3  190001199383    2019               10       F                1   \n",
              "4  190001237802    2019                7       F                1   \n",
              "\n",
              "   TP_COR_RACA  TP_NACIONALIDADE  TP_ST_CONCLUSAO  TP_ANO_CONCLUIU  TP_ESCOLA  \\\n",
              "0            3                 1                1               11          1   \n",
              "1            1                 1                1                5          1   \n",
              "2            3                 1                1               13          1   \n",
              "3            1                 1                1                4          1   \n",
              "4            1                 1                1                4          1   \n",
              "\n",
              "   TP_ENSINO  IN_TREINEIRO  CO_MUNICIPIO_ESC NO_MUNICIPIO_ESC  CO_UF_ESC  \\\n",
              "0        NaN             0               NaN              NaN        NaN   \n",
              "1        1.0             0               NaN              NaN        NaN   \n",
              "2        1.0             0               NaN              NaN        NaN   \n",
              "3        NaN             0               NaN              NaN        NaN   \n",
              "4        1.0             0               NaN              NaN        NaN   \n",
              "\n",
              "  SG_UF_ESC  TP_DEPENDENCIA_ADM_ESC  TP_LOCALIZACAO_ESC  TP_SIT_FUNC_ESC  \\\n",
              "0       NaN                     NaN                 NaN              NaN   \n",
              "1       NaN                     NaN                 NaN              NaN   \n",
              "2       NaN                     NaN                 NaN              NaN   \n",
              "3       NaN                     NaN                 NaN              NaN   \n",
              "4       NaN                     NaN                 NaN              NaN   \n",
              "\n",
              "   CO_MUNICIPIO_PROVA NO_MUNICIPIO_PROVA  CO_UF_PROVA SG_UF_PROVA  \\\n",
              "0             3552205           Sorocaba           35          SP   \n",
              "1             2910800   Feira de Santana           29          BA   \n",
              "2             2304400          Fortaleza           23          CE   \n",
              "3             1721000             Palmas           17          TO   \n",
              "4             3118601           Contagem           31          MG   \n",
              "\n",
              "   TP_PRESENCA_CN  TP_PRESENCA_CH  TP_PRESENCA_LC  TP_PRESENCA_MT  \\\n",
              "0               0               0               0               0   \n",
              "1               0               0               0               0   \n",
              "2               0               0               0               0   \n",
              "3               1               1               1               1   \n",
              "4               1               1               1               1   \n",
              "\n",
              "   CO_PROVA_CN  CO_PROVA_CH  CO_PROVA_LC  CO_PROVA_MT  NU_NOTA_CN  NU_NOTA_CH  \\\n",
              "0          NaN          NaN          NaN          NaN         NaN         NaN   \n",
              "1          NaN          NaN          NaN          NaN         NaN         NaN   \n",
              "2          NaN          NaN          NaN          NaN         NaN         NaN   \n",
              "3        504.0        510.0        513.0        516.0       483.8       503.6   \n",
              "4        504.0        510.0        513.0        516.0       513.6       575.5   \n",
              "\n",
              "   NU_NOTA_LC  NU_NOTA_MT  ...                                 TX_GABARITO_CH  \\\n",
              "0         NaN         NaN  ...                                            NaN   \n",
              "1         NaN         NaN  ...                                            NaN   \n",
              "2         NaN         NaN  ...                                            NaN   \n",
              "3       537.3       392.0  ...  EEBCEEDBADBBCBABCCADCEBACDBBACCACACBEADBBADCB   \n",
              "4       570.7       677.0  ...  EEBCEEDBADBBCBABCCADCEBACDBBACCACACBEADBBADCB   \n",
              "\n",
              "                                      TX_GABARITO_LC  \\\n",
              "0                                                NaN   \n",
              "1                                                NaN   \n",
              "2                                                NaN   \n",
              "3  ADBBEDCABAABBCBCDAAECDDDBAAAECADECDCEBDEEAECBD...   \n",
              "4  ADBBEDCABAABBCBCDAAECDDDBAAAECADECDCEBDEEAECBD...   \n",
              "\n",
              "                                  TX_GABARITO_MT TP_STATUS_REDACAO  \\\n",
              "0                                            NaN               NaN   \n",
              "1                                            NaN               NaN   \n",
              "2                                            NaN               NaN   \n",
              "3  BEDEEEAADBEBACABCDBABECECACADCBDCCEDCDABECDDD               1.0   \n",
              "4  BEDEEEAADBEBACABCDBABECECACADCBDCCEDCDABECDDD               1.0   \n",
              "\n",
              "   NU_NOTA_COMP1 NU_NOTA_COMP2 NU_NOTA_COMP3 NU_NOTA_COMP4 NU_NOTA_COMP5  \\\n",
              "0            NaN           NaN           NaN           NaN           NaN   \n",
              "1            NaN           NaN           NaN           NaN           NaN   \n",
              "2            NaN           NaN           NaN           NaN           NaN   \n",
              "3          120.0         120.0         120.0         100.0           0.0   \n",
              "4          160.0         120.0         180.0         200.0         200.0   \n",
              "\n",
              "   NU_NOTA_REDACAO  Q001  Q002  Q003  Q004  Q005  Q006 Q007 Q008 Q009 Q010  \\\n",
              "0              NaN     B     B     A     A     2     A    A    B    C    A   \n",
              "1              NaN     C     E     B     B     4     C    A    B    C    A   \n",
              "2              NaN     E     E     B     C     2     B    A    B    B    A   \n",
              "3            460.0     C     E     B     D     4     E    A    C    C    A   \n",
              "4            860.0     E     E     C     C     3     G    A    C    D    B   \n",
              "\n",
              "   Q011 Q012 Q013 Q014 Q015 Q016 Q017 Q018 Q019 Q020 Q021 Q022 Q023 Q024 Q025  \n",
              "0     A    B    A    A    A    A    A    A    A    A    A    C    A    C    B  \n",
              "1     A    B    A    A    A    A    A    A    B    A    A    E    A    A    B  \n",
              "2     A    B    A    A    A    A    A    A    B    A    A    C    A    A    B  \n",
              "3     B    B    A    B    A    A    A    A    C    A    B    D    A    B    B  \n",
              "4     A    B    B    B    A    B    A    A    B    A    A    C    B    B    B  \n",
              "\n",
              "[5 rows x 76 columns]"
            ],
            "text/html": [
              "\n",
              "  <div id=\"df-7ce3ed48-c8f3-4104-9020-3a4959d137be\">\n",
              "    <div class=\"colab-df-container\">\n",
              "      <div>\n",
              "<style scoped>\n",
              "    .dataframe tbody tr th:only-of-type {\n",
              "        vertical-align: middle;\n",
              "    }\n",
              "\n",
              "    .dataframe tbody tr th {\n",
              "        vertical-align: top;\n",
              "    }\n",
              "\n",
              "    .dataframe thead th {\n",
              "        text-align: right;\n",
              "    }\n",
              "</style>\n",
              "<table border=\"1\" class=\"dataframe\">\n",
              "  <thead>\n",
              "    <tr style=\"text-align: right;\">\n",
              "      <th></th>\n",
              "      <th>NU_INSCRICAO</th>\n",
              "      <th>NU_ANO</th>\n",
              "      <th>TP_FAIXA_ETARIA</th>\n",
              "      <th>TP_SEXO</th>\n",
              "      <th>TP_ESTADO_CIVIL</th>\n",
              "      <th>TP_COR_RACA</th>\n",
              "      <th>TP_NACIONALIDADE</th>\n",
              "      <th>TP_ST_CONCLUSAO</th>\n",
              "      <th>TP_ANO_CONCLUIU</th>\n",
              "      <th>TP_ESCOLA</th>\n",
              "      <th>TP_ENSINO</th>\n",
              "      <th>IN_TREINEIRO</th>\n",
              "      <th>CO_MUNICIPIO_ESC</th>\n",
              "      <th>NO_MUNICIPIO_ESC</th>\n",
              "      <th>CO_UF_ESC</th>\n",
              "      <th>SG_UF_ESC</th>\n",
              "      <th>TP_DEPENDENCIA_ADM_ESC</th>\n",
              "      <th>TP_LOCALIZACAO_ESC</th>\n",
              "      <th>TP_SIT_FUNC_ESC</th>\n",
              "      <th>CO_MUNICIPIO_PROVA</th>\n",
              "      <th>NO_MUNICIPIO_PROVA</th>\n",
              "      <th>CO_UF_PROVA</th>\n",
              "      <th>SG_UF_PROVA</th>\n",
              "      <th>TP_PRESENCA_CN</th>\n",
              "      <th>TP_PRESENCA_CH</th>\n",
              "      <th>TP_PRESENCA_LC</th>\n",
              "      <th>TP_PRESENCA_MT</th>\n",
              "      <th>CO_PROVA_CN</th>\n",
              "      <th>CO_PROVA_CH</th>\n",
              "      <th>CO_PROVA_LC</th>\n",
              "      <th>CO_PROVA_MT</th>\n",
              "      <th>NU_NOTA_CN</th>\n",
              "      <th>NU_NOTA_CH</th>\n",
              "      <th>NU_NOTA_LC</th>\n",
              "      <th>NU_NOTA_MT</th>\n",
              "      <th>...</th>\n",
              "      <th>TX_GABARITO_CH</th>\n",
              "      <th>TX_GABARITO_LC</th>\n",
              "      <th>TX_GABARITO_MT</th>\n",
              "      <th>TP_STATUS_REDACAO</th>\n",
              "      <th>NU_NOTA_COMP1</th>\n",
              "      <th>NU_NOTA_COMP2</th>\n",
              "      <th>NU_NOTA_COMP3</th>\n",
              "      <th>NU_NOTA_COMP4</th>\n",
              "      <th>NU_NOTA_COMP5</th>\n",
              "      <th>NU_NOTA_REDACAO</th>\n",
              "      <th>Q001</th>\n",
              "      <th>Q002</th>\n",
              "      <th>Q003</th>\n",
              "      <th>Q004</th>\n",
              "      <th>Q005</th>\n",
              "      <th>Q006</th>\n",
              "      <th>Q007</th>\n",
              "      <th>Q008</th>\n",
              "      <th>Q009</th>\n",
              "      <th>Q010</th>\n",
              "      <th>Q011</th>\n",
              "      <th>Q012</th>\n",
              "      <th>Q013</th>\n",
              "      <th>Q014</th>\n",
              "      <th>Q015</th>\n",
              "      <th>Q016</th>\n",
              "      <th>Q017</th>\n",
              "      <th>Q018</th>\n",
              "      <th>Q019</th>\n",
              "      <th>Q020</th>\n",
              "      <th>Q021</th>\n",
              "      <th>Q022</th>\n",
              "      <th>Q023</th>\n",
              "      <th>Q024</th>\n",
              "      <th>Q025</th>\n",
              "    </tr>\n",
              "  </thead>\n",
              "  <tbody>\n",
              "    <tr>\n",
              "      <th>0</th>\n",
              "      <td>190001595656</td>\n",
              "      <td>2019</td>\n",
              "      <td>13</td>\n",
              "      <td>M</td>\n",
              "      <td>1</td>\n",
              "      <td>3</td>\n",
              "      <td>1</td>\n",
              "      <td>1</td>\n",
              "      <td>11</td>\n",
              "      <td>1</td>\n",
              "      <td>NaN</td>\n",
              "      <td>0</td>\n",
              "      <td>NaN</td>\n",
              "      <td>NaN</td>\n",
              "      <td>NaN</td>\n",
              "      <td>NaN</td>\n",
              "      <td>NaN</td>\n",
              "      <td>NaN</td>\n",
              "      <td>NaN</td>\n",
              "      <td>3552205</td>\n",
              "      <td>Sorocaba</td>\n",
              "      <td>35</td>\n",
              "      <td>SP</td>\n",
              "      <td>0</td>\n",
              "      <td>0</td>\n",
              "      <td>0</td>\n",
              "      <td>0</td>\n",
              "      <td>NaN</td>\n",
              "      <td>NaN</td>\n",
              "      <td>NaN</td>\n",
              "      <td>NaN</td>\n",
              "      <td>NaN</td>\n",
              "      <td>NaN</td>\n",
              "      <td>NaN</td>\n",
              "      <td>NaN</td>\n",
              "      <td>...</td>\n",
              "      <td>NaN</td>\n",
              "      <td>NaN</td>\n",
              "      <td>NaN</td>\n",
              "      <td>NaN</td>\n",
              "      <td>NaN</td>\n",
              "      <td>NaN</td>\n",
              "      <td>NaN</td>\n",
              "      <td>NaN</td>\n",
              "      <td>NaN</td>\n",
              "      <td>NaN</td>\n",
              "      <td>B</td>\n",
              "      <td>B</td>\n",
              "      <td>A</td>\n",
              "      <td>A</td>\n",
              "      <td>2</td>\n",
              "      <td>A</td>\n",
              "      <td>A</td>\n",
              "      <td>B</td>\n",
              "      <td>C</td>\n",
              "      <td>A</td>\n",
              "      <td>A</td>\n",
              "      <td>B</td>\n",
              "      <td>A</td>\n",
              "      <td>A</td>\n",
              "      <td>A</td>\n",
              "      <td>A</td>\n",
              "      <td>A</td>\n",
              "      <td>A</td>\n",
              "      <td>A</td>\n",
              "      <td>A</td>\n",
              "      <td>A</td>\n",
              "      <td>C</td>\n",
              "      <td>A</td>\n",
              "      <td>C</td>\n",
              "      <td>B</td>\n",
              "    </tr>\n",
              "    <tr>\n",
              "      <th>1</th>\n",
              "      <td>190001421546</td>\n",
              "      <td>2019</td>\n",
              "      <td>8</td>\n",
              "      <td>M</td>\n",
              "      <td>1</td>\n",
              "      <td>1</td>\n",
              "      <td>1</td>\n",
              "      <td>1</td>\n",
              "      <td>5</td>\n",
              "      <td>1</td>\n",
              "      <td>1.0</td>\n",
              "      <td>0</td>\n",
              "      <td>NaN</td>\n",
              "      <td>NaN</td>\n",
              "      <td>NaN</td>\n",
              "      <td>NaN</td>\n",
              "      <td>NaN</td>\n",
              "      <td>NaN</td>\n",
              "      <td>NaN</td>\n",
              "      <td>2910800</td>\n",
              "      <td>Feira de Santana</td>\n",
              "      <td>29</td>\n",
              "      <td>BA</td>\n",
              "      <td>0</td>\n",
              "      <td>0</td>\n",
              "      <td>0</td>\n",
              "      <td>0</td>\n",
              "      <td>NaN</td>\n",
              "      <td>NaN</td>\n",
              "      <td>NaN</td>\n",
              "      <td>NaN</td>\n",
              "      <td>NaN</td>\n",
              "      <td>NaN</td>\n",
              "      <td>NaN</td>\n",
              "      <td>NaN</td>\n",
              "      <td>...</td>\n",
              "      <td>NaN</td>\n",
              "      <td>NaN</td>\n",
              "      <td>NaN</td>\n",
              "      <td>NaN</td>\n",
              "      <td>NaN</td>\n",
              "      <td>NaN</td>\n",
              "      <td>NaN</td>\n",
              "      <td>NaN</td>\n",
              "      <td>NaN</td>\n",
              "      <td>NaN</td>\n",
              "      <td>C</td>\n",
              "      <td>E</td>\n",
              "      <td>B</td>\n",
              "      <td>B</td>\n",
              "      <td>4</td>\n",
              "      <td>C</td>\n",
              "      <td>A</td>\n",
              "      <td>B</td>\n",
              "      <td>C</td>\n",
              "      <td>A</td>\n",
              "      <td>A</td>\n",
              "      <td>B</td>\n",
              "      <td>A</td>\n",
              "      <td>A</td>\n",
              "      <td>A</td>\n",
              "      <td>A</td>\n",
              "      <td>A</td>\n",
              "      <td>A</td>\n",
              "      <td>B</td>\n",
              "      <td>A</td>\n",
              "      <td>A</td>\n",
              "      <td>E</td>\n",
              "      <td>A</td>\n",
              "      <td>A</td>\n",
              "      <td>B</td>\n",
              "    </tr>\n",
              "    <tr>\n",
              "      <th>2</th>\n",
              "      <td>190001133210</td>\n",
              "      <td>2019</td>\n",
              "      <td>13</td>\n",
              "      <td>F</td>\n",
              "      <td>1</td>\n",
              "      <td>3</td>\n",
              "      <td>1</td>\n",
              "      <td>1</td>\n",
              "      <td>13</td>\n",
              "      <td>1</td>\n",
              "      <td>1.0</td>\n",
              "      <td>0</td>\n",
              "      <td>NaN</td>\n",
              "      <td>NaN</td>\n",
              "      <td>NaN</td>\n",
              "      <td>NaN</td>\n",
              "      <td>NaN</td>\n",
              "      <td>NaN</td>\n",
              "      <td>NaN</td>\n",
              "      <td>2304400</td>\n",
              "      <td>Fortaleza</td>\n",
              "      <td>23</td>\n",
              "      <td>CE</td>\n",
              "      <td>0</td>\n",
              "      <td>0</td>\n",
              "      <td>0</td>\n",
              "      <td>0</td>\n",
              "      <td>NaN</td>\n",
              "      <td>NaN</td>\n",
              "      <td>NaN</td>\n",
              "      <td>NaN</td>\n",
              "      <td>NaN</td>\n",
              "      <td>NaN</td>\n",
              "      <td>NaN</td>\n",
              "      <td>NaN</td>\n",
              "      <td>...</td>\n",
              "      <td>NaN</td>\n",
              "      <td>NaN</td>\n",
              "      <td>NaN</td>\n",
              "      <td>NaN</td>\n",
              "      <td>NaN</td>\n",
              "      <td>NaN</td>\n",
              "      <td>NaN</td>\n",
              "      <td>NaN</td>\n",
              "      <td>NaN</td>\n",
              "      <td>NaN</td>\n",
              "      <td>E</td>\n",
              "      <td>E</td>\n",
              "      <td>B</td>\n",
              "      <td>C</td>\n",
              "      <td>2</td>\n",
              "      <td>B</td>\n",
              "      <td>A</td>\n",
              "      <td>B</td>\n",
              "      <td>B</td>\n",
              "      <td>A</td>\n",
              "      <td>A</td>\n",
              "      <td>B</td>\n",
              "      <td>A</td>\n",
              "      <td>A</td>\n",
              "      <td>A</td>\n",
              "      <td>A</td>\n",
              "      <td>A</td>\n",
              "      <td>A</td>\n",
              "      <td>B</td>\n",
              "      <td>A</td>\n",
              "      <td>A</td>\n",
              "      <td>C</td>\n",
              "      <td>A</td>\n",
              "      <td>A</td>\n",
              "      <td>B</td>\n",
              "    </tr>\n",
              "    <tr>\n",
              "      <th>3</th>\n",
              "      <td>190001199383</td>\n",
              "      <td>2019</td>\n",
              "      <td>10</td>\n",
              "      <td>F</td>\n",
              "      <td>1</td>\n",
              "      <td>1</td>\n",
              "      <td>1</td>\n",
              "      <td>1</td>\n",
              "      <td>4</td>\n",
              "      <td>1</td>\n",
              "      <td>NaN</td>\n",
              "      <td>0</td>\n",
              "      <td>NaN</td>\n",
              "      <td>NaN</td>\n",
              "      <td>NaN</td>\n",
              "      <td>NaN</td>\n",
              "      <td>NaN</td>\n",
              "      <td>NaN</td>\n",
              "      <td>NaN</td>\n",
              "      <td>1721000</td>\n",
              "      <td>Palmas</td>\n",
              "      <td>17</td>\n",
              "      <td>TO</td>\n",
              "      <td>1</td>\n",
              "      <td>1</td>\n",
              "      <td>1</td>\n",
              "      <td>1</td>\n",
              "      <td>504.0</td>\n",
              "      <td>510.0</td>\n",
              "      <td>513.0</td>\n",
              "      <td>516.0</td>\n",
              "      <td>483.8</td>\n",
              "      <td>503.6</td>\n",
              "      <td>537.3</td>\n",
              "      <td>392.0</td>\n",
              "      <td>...</td>\n",
              "      <td>EEBCEEDBADBBCBABCCADCEBACDBBACCACACBEADBBADCB</td>\n",
              "      <td>ADBBEDCABAABBCBCDAAECDDDBAAAECADECDCEBDEEAECBD...</td>\n",
              "      <td>BEDEEEAADBEBACABCDBABECECACADCBDCCEDCDABECDDD</td>\n",
              "      <td>1.0</td>\n",
              "      <td>120.0</td>\n",
              "      <td>120.0</td>\n",
              "      <td>120.0</td>\n",
              "      <td>100.0</td>\n",
              "      <td>0.0</td>\n",
              "      <td>460.0</td>\n",
              "      <td>C</td>\n",
              "      <td>E</td>\n",
              "      <td>B</td>\n",
              "      <td>D</td>\n",
              "      <td>4</td>\n",
              "      <td>E</td>\n",
              "      <td>A</td>\n",
              "      <td>C</td>\n",
              "      <td>C</td>\n",
              "      <td>A</td>\n",
              "      <td>B</td>\n",
              "      <td>B</td>\n",
              "      <td>A</td>\n",
              "      <td>B</td>\n",
              "      <td>A</td>\n",
              "      <td>A</td>\n",
              "      <td>A</td>\n",
              "      <td>A</td>\n",
              "      <td>C</td>\n",
              "      <td>A</td>\n",
              "      <td>B</td>\n",
              "      <td>D</td>\n",
              "      <td>A</td>\n",
              "      <td>B</td>\n",
              "      <td>B</td>\n",
              "    </tr>\n",
              "    <tr>\n",
              "      <th>4</th>\n",
              "      <td>190001237802</td>\n",
              "      <td>2019</td>\n",
              "      <td>7</td>\n",
              "      <td>F</td>\n",
              "      <td>1</td>\n",
              "      <td>1</td>\n",
              "      <td>1</td>\n",
              "      <td>1</td>\n",
              "      <td>4</td>\n",
              "      <td>1</td>\n",
              "      <td>1.0</td>\n",
              "      <td>0</td>\n",
              "      <td>NaN</td>\n",
              "      <td>NaN</td>\n",
              "      <td>NaN</td>\n",
              "      <td>NaN</td>\n",
              "      <td>NaN</td>\n",
              "      <td>NaN</td>\n",
              "      <td>NaN</td>\n",
              "      <td>3118601</td>\n",
              "      <td>Contagem</td>\n",
              "      <td>31</td>\n",
              "      <td>MG</td>\n",
              "      <td>1</td>\n",
              "      <td>1</td>\n",
              "      <td>1</td>\n",
              "      <td>1</td>\n",
              "      <td>504.0</td>\n",
              "      <td>510.0</td>\n",
              "      <td>513.0</td>\n",
              "      <td>516.0</td>\n",
              "      <td>513.6</td>\n",
              "      <td>575.5</td>\n",
              "      <td>570.7</td>\n",
              "      <td>677.0</td>\n",
              "      <td>...</td>\n",
              "      <td>EEBCEEDBADBBCBABCCADCEBACDBBACCACACBEADBBADCB</td>\n",
              "      <td>ADBBEDCABAABBCBCDAAECDDDBAAAECADECDCEBDEEAECBD...</td>\n",
              "      <td>BEDEEEAADBEBACABCDBABECECACADCBDCCEDCDABECDDD</td>\n",
              "      <td>1.0</td>\n",
              "      <td>160.0</td>\n",
              "      <td>120.0</td>\n",
              "      <td>180.0</td>\n",
              "      <td>200.0</td>\n",
              "      <td>200.0</td>\n",
              "      <td>860.0</td>\n",
              "      <td>E</td>\n",
              "      <td>E</td>\n",
              "      <td>C</td>\n",
              "      <td>C</td>\n",
              "      <td>3</td>\n",
              "      <td>G</td>\n",
              "      <td>A</td>\n",
              "      <td>C</td>\n",
              "      <td>D</td>\n",
              "      <td>B</td>\n",
              "      <td>A</td>\n",
              "      <td>B</td>\n",
              "      <td>B</td>\n",
              "      <td>B</td>\n",
              "      <td>A</td>\n",
              "      <td>B</td>\n",
              "      <td>A</td>\n",
              "      <td>A</td>\n",
              "      <td>B</td>\n",
              "      <td>A</td>\n",
              "      <td>A</td>\n",
              "      <td>C</td>\n",
              "      <td>B</td>\n",
              "      <td>B</td>\n",
              "      <td>B</td>\n",
              "    </tr>\n",
              "  </tbody>\n",
              "</table>\n",
              "<p>5 rows × 76 columns</p>\n",
              "</div>\n",
              "      <button class=\"colab-df-convert\" onclick=\"convertToInteractive('df-7ce3ed48-c8f3-4104-9020-3a4959d137be')\"\n",
              "              title=\"Convert this dataframe to an interactive table.\"\n",
              "              style=\"display:none;\">\n",
              "        \n",
              "  <svg xmlns=\"http://www.w3.org/2000/svg\" height=\"24px\"viewBox=\"0 0 24 24\"\n",
              "       width=\"24px\">\n",
              "    <path d=\"M0 0h24v24H0V0z\" fill=\"none\"/>\n",
              "    <path d=\"M18.56 5.44l.94 2.06.94-2.06 2.06-.94-2.06-.94-.94-2.06-.94 2.06-2.06.94zm-11 1L8.5 8.5l.94-2.06 2.06-.94-2.06-.94L8.5 2.5l-.94 2.06-2.06.94zm10 10l.94 2.06.94-2.06 2.06-.94-2.06-.94-.94-2.06-.94 2.06-2.06.94z\"/><path d=\"M17.41 7.96l-1.37-1.37c-.4-.4-.92-.59-1.43-.59-.52 0-1.04.2-1.43.59L10.3 9.45l-7.72 7.72c-.78.78-.78 2.05 0 2.83L4 21.41c.39.39.9.59 1.41.59.51 0 1.02-.2 1.41-.59l7.78-7.78 2.81-2.81c.8-.78.8-2.07 0-2.86zM5.41 20L4 18.59l7.72-7.72 1.47 1.35L5.41 20z\"/>\n",
              "  </svg>\n",
              "      </button>\n",
              "      \n",
              "  <style>\n",
              "    .colab-df-container {\n",
              "      display:flex;\n",
              "      flex-wrap:wrap;\n",
              "      gap: 12px;\n",
              "    }\n",
              "\n",
              "    .colab-df-convert {\n",
              "      background-color: #E8F0FE;\n",
              "      border: none;\n",
              "      border-radius: 50%;\n",
              "      cursor: pointer;\n",
              "      display: none;\n",
              "      fill: #1967D2;\n",
              "      height: 32px;\n",
              "      padding: 0 0 0 0;\n",
              "      width: 32px;\n",
              "    }\n",
              "\n",
              "    .colab-df-convert:hover {\n",
              "      background-color: #E2EBFA;\n",
              "      box-shadow: 0px 1px 2px rgba(60, 64, 67, 0.3), 0px 1px 3px 1px rgba(60, 64, 67, 0.15);\n",
              "      fill: #174EA6;\n",
              "    }\n",
              "\n",
              "    [theme=dark] .colab-df-convert {\n",
              "      background-color: #3B4455;\n",
              "      fill: #D2E3FC;\n",
              "    }\n",
              "\n",
              "    [theme=dark] .colab-df-convert:hover {\n",
              "      background-color: #434B5C;\n",
              "      box-shadow: 0px 1px 3px 1px rgba(0, 0, 0, 0.15);\n",
              "      filter: drop-shadow(0px 1px 2px rgba(0, 0, 0, 0.3));\n",
              "      fill: #FFFFFF;\n",
              "    }\n",
              "  </style>\n",
              "\n",
              "      <script>\n",
              "        const buttonEl =\n",
              "          document.querySelector('#df-7ce3ed48-c8f3-4104-9020-3a4959d137be button.colab-df-convert');\n",
              "        buttonEl.style.display =\n",
              "          google.colab.kernel.accessAllowed ? 'block' : 'none';\n",
              "\n",
              "        async function convertToInteractive(key) {\n",
              "          const element = document.querySelector('#df-7ce3ed48-c8f3-4104-9020-3a4959d137be');\n",
              "          const dataTable =\n",
              "            await google.colab.kernel.invokeFunction('convertToInteractive',\n",
              "                                                     [key], {});\n",
              "          if (!dataTable) return;\n",
              "\n",
              "          const docLinkHtml = 'Like what you see? Visit the ' +\n",
              "            '<a target=\"_blank\" href=https://colab.research.google.com/notebooks/data_table.ipynb>data table notebook</a>'\n",
              "            + ' to learn more about interactive tables.';\n",
              "          element.innerHTML = '';\n",
              "          dataTable['output_type'] = 'display_data';\n",
              "          await google.colab.output.renderOutput(dataTable, element);\n",
              "          const docLink = document.createElement('div');\n",
              "          docLink.innerHTML = docLinkHtml;\n",
              "          element.appendChild(docLink);\n",
              "        }\n",
              "      </script>\n",
              "    </div>\n",
              "  </div>\n",
              "  "
            ]
          },
          "metadata": {},
          "execution_count": 7
        }
      ]
    },
    {
      "cell_type": "code",
      "source": [
        "micro_dados_enem.columns.values"
      ],
      "metadata": {
        "colab": {
          "base_uri": "https://localhost:8080/"
        },
        "id": "qhsehp2GZfn0",
        "outputId": "a1633d42-164d-4aae-bc94-211aa3d30c4d"
      },
      "execution_count": null,
      "outputs": [
        {
          "output_type": "execute_result",
          "data": {
            "text/plain": [
              "array(['NU_INSCRICAO', 'NU_ANO', 'TP_FAIXA_ETARIA', 'TP_SEXO',\n",
              "       'TP_ESTADO_CIVIL', 'TP_COR_RACA', 'TP_NACIONALIDADE',\n",
              "       'TP_ST_CONCLUSAO', 'TP_ANO_CONCLUIU', 'TP_ESCOLA', 'TP_ENSINO',\n",
              "       'IN_TREINEIRO', 'CO_MUNICIPIO_ESC', 'NO_MUNICIPIO_ESC',\n",
              "       'CO_UF_ESC', 'SG_UF_ESC', 'TP_DEPENDENCIA_ADM_ESC',\n",
              "       'TP_LOCALIZACAO_ESC', 'TP_SIT_FUNC_ESC', 'CO_MUNICIPIO_PROVA',\n",
              "       'NO_MUNICIPIO_PROVA', 'CO_UF_PROVA', 'SG_UF_PROVA',\n",
              "       'TP_PRESENCA_CN', 'TP_PRESENCA_CH', 'TP_PRESENCA_LC',\n",
              "       'TP_PRESENCA_MT', 'CO_PROVA_CN', 'CO_PROVA_CH', 'CO_PROVA_LC',\n",
              "       'CO_PROVA_MT', 'NU_NOTA_CN', 'NU_NOTA_CH', 'NU_NOTA_LC',\n",
              "       'NU_NOTA_MT', 'TX_RESPOSTAS_CN', 'TX_RESPOSTAS_CH',\n",
              "       'TX_RESPOSTAS_LC', 'TX_RESPOSTAS_MT', 'TP_LINGUA',\n",
              "       'TX_GABARITO_CN', 'TX_GABARITO_CH', 'TX_GABARITO_LC',\n",
              "       'TX_GABARITO_MT', 'TP_STATUS_REDACAO', 'NU_NOTA_COMP1',\n",
              "       'NU_NOTA_COMP2', 'NU_NOTA_COMP3', 'NU_NOTA_COMP4', 'NU_NOTA_COMP5',\n",
              "       'NU_NOTA_REDACAO', 'Q001', 'Q002', 'Q003', 'Q004', 'Q005', 'Q006',\n",
              "       'Q007', 'Q008', 'Q009', 'Q010', 'Q011', 'Q012', 'Q013', 'Q014',\n",
              "       'Q015', 'Q016', 'Q017', 'Q018', 'Q019', 'Q020', 'Q021', 'Q022',\n",
              "       'Q023', 'Q024', 'Q025'], dtype=object)"
            ]
          },
          "metadata": {},
          "execution_count": 8
        }
      ]
    },
    {
      "cell_type": "code",
      "source": [
        "%%time\n",
        "data = pd.read_csv(\"/content/drive/MyDrive/MICRODADOS_ENEM_2019.csv\", sep=\";\", encoding='ISO-8859-1',\n",
        "                usecols = ['NU_INSCRICAO','TP_FAIXA_ETARIA', 'TP_SEXO', \n",
        "                           'TP_ESTADO_CIVIL', 'TP_COR_RACA', 'TP_NACIONALIDADE', 'TP_ST_CONCLUSAO', \n",
        "                           'TP_ANO_CONCLUIU', 'TP_ESCOLA', 'TP_ENSINO', 'IN_TREINEIRO',\n",
        "                           'CO_MUNICIPIO_ESC', 'NO_MUNICIPIO_ESC', 'CO_UF_ESC', 'SG_UF_ESC',\n",
        "                           'TP_DEPENDENCIA_ADM_ESC', 'TP_LOCALIZACAO_ESC', 'TP_SIT_FUNC_ESC', \n",
        "                           'CO_MUNICIPIO_PROVA', 'NO_MUNICIPIO_PROVA', 'CO_UF_PROVA', \n",
        "                           'SG_UF_PROVA', 'TP_PRESENCA_CN', 'TP_PRESENCA_CH', 'TP_PRESENCA_LC',\n",
        "                           'TP_PRESENCA_MT', 'NU_NOTA_CN', 'NU_NOTA_CH', 'NU_NOTA_LC', 'NU_NOTA_MT',\n",
        "                           'TP_LINGUA', 'TP_STATUS_REDACAO', 'NU_NOTA_REDACAO', \n",
        "                           'Q001', 'Q002', 'Q003', 'Q004', 'Q005', 'Q006', 'Q007', \n",
        "                           'Q008', 'Q009', 'Q010', 'Q011', 'Q012', 'Q013', 'Q014', \n",
        "                           'Q015', 'Q016', 'Q017', 'Q018', 'Q019', 'Q020', 'Q021', 'Q022', 'Q023', 'Q024', 'Q025'])\n",
        "\n"
      ],
      "metadata": {
        "colab": {
          "base_uri": "https://localhost:8080/"
        },
        "id": "sQrZkQulZ5NS",
        "outputId": "b866fcd2-7d0f-4fe7-e6a4-6a2f4f713c7d"
      },
      "execution_count": null,
      "outputs": [
        {
          "output_type": "stream",
          "name": "stdout",
          "text": [
            "CPU times: user 52.6 s, sys: 12.8 s, total: 1min 5s\n",
            "Wall time: 1min 15s\n"
          ]
        }
      ]
    },
    {
      "cell_type": "code",
      "source": [
        "\n",
        "data.head().T"
      ],
      "metadata": {
        "colab": {
          "base_uri": "https://localhost:8080/",
          "height": 1000
        },
        "id": "GAdpLnQkaXnI",
        "outputId": "84056d10-bf67-4bea-887f-1e7adce9348c"
      },
      "execution_count": null,
      "outputs": [
        {
          "output_type": "execute_result",
          "data": {
            "text/plain": [
              "                                   0                 1             2  \\\n",
              "NU_INSCRICAO            190001595656      190001421546  190001133210   \n",
              "TP_FAIXA_ETARIA                   13                 8            13   \n",
              "TP_SEXO                            M                 M             F   \n",
              "TP_ESTADO_CIVIL                    1                 1             1   \n",
              "TP_COR_RACA                        3                 1             3   \n",
              "TP_NACIONALIDADE                   1                 1             1   \n",
              "TP_ST_CONCLUSAO                    1                 1             1   \n",
              "TP_ANO_CONCLUIU                   11                 5            13   \n",
              "TP_ESCOLA                          1                 1             1   \n",
              "TP_ENSINO                        NaN               1.0           1.0   \n",
              "IN_TREINEIRO                       0                 0             0   \n",
              "CO_MUNICIPIO_ESC                 NaN               NaN           NaN   \n",
              "NO_MUNICIPIO_ESC                 NaN               NaN           NaN   \n",
              "CO_UF_ESC                        NaN               NaN           NaN   \n",
              "SG_UF_ESC                        NaN               NaN           NaN   \n",
              "TP_DEPENDENCIA_ADM_ESC           NaN               NaN           NaN   \n",
              "TP_LOCALIZACAO_ESC               NaN               NaN           NaN   \n",
              "TP_SIT_FUNC_ESC                  NaN               NaN           NaN   \n",
              "CO_MUNICIPIO_PROVA           3552205           2910800       2304400   \n",
              "NO_MUNICIPIO_PROVA          Sorocaba  Feira de Santana     Fortaleza   \n",
              "CO_UF_PROVA                       35                29            23   \n",
              "SG_UF_PROVA                       SP                BA            CE   \n",
              "TP_PRESENCA_CN                     0                 0             0   \n",
              "TP_PRESENCA_CH                     0                 0             0   \n",
              "TP_PRESENCA_LC                     0                 0             0   \n",
              "TP_PRESENCA_MT                     0                 0             0   \n",
              "NU_NOTA_CN                       NaN               NaN           NaN   \n",
              "NU_NOTA_CH                       NaN               NaN           NaN   \n",
              "NU_NOTA_LC                       NaN               NaN           NaN   \n",
              "NU_NOTA_MT                       NaN               NaN           NaN   \n",
              "TP_LINGUA                          0                 0             1   \n",
              "TP_STATUS_REDACAO                NaN               NaN           NaN   \n",
              "NU_NOTA_REDACAO                  NaN               NaN           NaN   \n",
              "Q001                               B                 C             E   \n",
              "Q002                               B                 E             E   \n",
              "Q003                               A                 B             B   \n",
              "Q004                               A                 B             C   \n",
              "Q005                               2                 4             2   \n",
              "Q006                               A                 C             B   \n",
              "Q007                               A                 A             A   \n",
              "Q008                               B                 B             B   \n",
              "Q009                               C                 C             B   \n",
              "Q010                               A                 A             A   \n",
              "Q011                               A                 A             A   \n",
              "Q012                               B                 B             B   \n",
              "Q013                               A                 A             A   \n",
              "Q014                               A                 A             A   \n",
              "Q015                               A                 A             A   \n",
              "Q016                               A                 A             A   \n",
              "Q017                               A                 A             A   \n",
              "Q018                               A                 A             A   \n",
              "Q019                               A                 B             B   \n",
              "Q020                               A                 A             A   \n",
              "Q021                               A                 A             A   \n",
              "Q022                               C                 E             C   \n",
              "Q023                               A                 A             A   \n",
              "Q024                               C                 A             A   \n",
              "Q025                               B                 B             B   \n",
              "\n",
              "                                   3             4  \n",
              "NU_INSCRICAO            190001199383  190001237802  \n",
              "TP_FAIXA_ETARIA                   10             7  \n",
              "TP_SEXO                            F             F  \n",
              "TP_ESTADO_CIVIL                    1             1  \n",
              "TP_COR_RACA                        1             1  \n",
              "TP_NACIONALIDADE                   1             1  \n",
              "TP_ST_CONCLUSAO                    1             1  \n",
              "TP_ANO_CONCLUIU                    4             4  \n",
              "TP_ESCOLA                          1             1  \n",
              "TP_ENSINO                        NaN           1.0  \n",
              "IN_TREINEIRO                       0             0  \n",
              "CO_MUNICIPIO_ESC                 NaN           NaN  \n",
              "NO_MUNICIPIO_ESC                 NaN           NaN  \n",
              "CO_UF_ESC                        NaN           NaN  \n",
              "SG_UF_ESC                        NaN           NaN  \n",
              "TP_DEPENDENCIA_ADM_ESC           NaN           NaN  \n",
              "TP_LOCALIZACAO_ESC               NaN           NaN  \n",
              "TP_SIT_FUNC_ESC                  NaN           NaN  \n",
              "CO_MUNICIPIO_PROVA           1721000       3118601  \n",
              "NO_MUNICIPIO_PROVA            Palmas      Contagem  \n",
              "CO_UF_PROVA                       17            31  \n",
              "SG_UF_PROVA                       TO            MG  \n",
              "TP_PRESENCA_CN                     1             1  \n",
              "TP_PRESENCA_CH                     1             1  \n",
              "TP_PRESENCA_LC                     1             1  \n",
              "TP_PRESENCA_MT                     1             1  \n",
              "NU_NOTA_CN                     483.8         513.6  \n",
              "NU_NOTA_CH                     503.6         575.5  \n",
              "NU_NOTA_LC                     537.3         570.7  \n",
              "NU_NOTA_MT                     392.0         677.0  \n",
              "TP_LINGUA                          1             0  \n",
              "TP_STATUS_REDACAO                1.0           1.0  \n",
              "NU_NOTA_REDACAO                460.0         860.0  \n",
              "Q001                               C             E  \n",
              "Q002                               E             E  \n",
              "Q003                               B             C  \n",
              "Q004                               D             C  \n",
              "Q005                               4             3  \n",
              "Q006                               E             G  \n",
              "Q007                               A             A  \n",
              "Q008                               C             C  \n",
              "Q009                               C             D  \n",
              "Q010                               A             B  \n",
              "Q011                               B             A  \n",
              "Q012                               B             B  \n",
              "Q013                               A             B  \n",
              "Q014                               B             B  \n",
              "Q015                               A             A  \n",
              "Q016                               A             B  \n",
              "Q017                               A             A  \n",
              "Q018                               A             A  \n",
              "Q019                               C             B  \n",
              "Q020                               A             A  \n",
              "Q021                               B             A  \n",
              "Q022                               D             C  \n",
              "Q023                               A             B  \n",
              "Q024                               B             B  \n",
              "Q025                               B             B  "
            ],
            "text/html": [
              "\n",
              "  <div id=\"df-56e5ca8d-7292-4372-94c9-ea616f53c907\">\n",
              "    <div class=\"colab-df-container\">\n",
              "      <div>\n",
              "<style scoped>\n",
              "    .dataframe tbody tr th:only-of-type {\n",
              "        vertical-align: middle;\n",
              "    }\n",
              "\n",
              "    .dataframe tbody tr th {\n",
              "        vertical-align: top;\n",
              "    }\n",
              "\n",
              "    .dataframe thead th {\n",
              "        text-align: right;\n",
              "    }\n",
              "</style>\n",
              "<table border=\"1\" class=\"dataframe\">\n",
              "  <thead>\n",
              "    <tr style=\"text-align: right;\">\n",
              "      <th></th>\n",
              "      <th>0</th>\n",
              "      <th>1</th>\n",
              "      <th>2</th>\n",
              "      <th>3</th>\n",
              "      <th>4</th>\n",
              "    </tr>\n",
              "  </thead>\n",
              "  <tbody>\n",
              "    <tr>\n",
              "      <th>NU_INSCRICAO</th>\n",
              "      <td>190001595656</td>\n",
              "      <td>190001421546</td>\n",
              "      <td>190001133210</td>\n",
              "      <td>190001199383</td>\n",
              "      <td>190001237802</td>\n",
              "    </tr>\n",
              "    <tr>\n",
              "      <th>TP_FAIXA_ETARIA</th>\n",
              "      <td>13</td>\n",
              "      <td>8</td>\n",
              "      <td>13</td>\n",
              "      <td>10</td>\n",
              "      <td>7</td>\n",
              "    </tr>\n",
              "    <tr>\n",
              "      <th>TP_SEXO</th>\n",
              "      <td>M</td>\n",
              "      <td>M</td>\n",
              "      <td>F</td>\n",
              "      <td>F</td>\n",
              "      <td>F</td>\n",
              "    </tr>\n",
              "    <tr>\n",
              "      <th>TP_ESTADO_CIVIL</th>\n",
              "      <td>1</td>\n",
              "      <td>1</td>\n",
              "      <td>1</td>\n",
              "      <td>1</td>\n",
              "      <td>1</td>\n",
              "    </tr>\n",
              "    <tr>\n",
              "      <th>TP_COR_RACA</th>\n",
              "      <td>3</td>\n",
              "      <td>1</td>\n",
              "      <td>3</td>\n",
              "      <td>1</td>\n",
              "      <td>1</td>\n",
              "    </tr>\n",
              "    <tr>\n",
              "      <th>TP_NACIONALIDADE</th>\n",
              "      <td>1</td>\n",
              "      <td>1</td>\n",
              "      <td>1</td>\n",
              "      <td>1</td>\n",
              "      <td>1</td>\n",
              "    </tr>\n",
              "    <tr>\n",
              "      <th>TP_ST_CONCLUSAO</th>\n",
              "      <td>1</td>\n",
              "      <td>1</td>\n",
              "      <td>1</td>\n",
              "      <td>1</td>\n",
              "      <td>1</td>\n",
              "    </tr>\n",
              "    <tr>\n",
              "      <th>TP_ANO_CONCLUIU</th>\n",
              "      <td>11</td>\n",
              "      <td>5</td>\n",
              "      <td>13</td>\n",
              "      <td>4</td>\n",
              "      <td>4</td>\n",
              "    </tr>\n",
              "    <tr>\n",
              "      <th>TP_ESCOLA</th>\n",
              "      <td>1</td>\n",
              "      <td>1</td>\n",
              "      <td>1</td>\n",
              "      <td>1</td>\n",
              "      <td>1</td>\n",
              "    </tr>\n",
              "    <tr>\n",
              "      <th>TP_ENSINO</th>\n",
              "      <td>NaN</td>\n",
              "      <td>1.0</td>\n",
              "      <td>1.0</td>\n",
              "      <td>NaN</td>\n",
              "      <td>1.0</td>\n",
              "    </tr>\n",
              "    <tr>\n",
              "      <th>IN_TREINEIRO</th>\n",
              "      <td>0</td>\n",
              "      <td>0</td>\n",
              "      <td>0</td>\n",
              "      <td>0</td>\n",
              "      <td>0</td>\n",
              "    </tr>\n",
              "    <tr>\n",
              "      <th>CO_MUNICIPIO_ESC</th>\n",
              "      <td>NaN</td>\n",
              "      <td>NaN</td>\n",
              "      <td>NaN</td>\n",
              "      <td>NaN</td>\n",
              "      <td>NaN</td>\n",
              "    </tr>\n",
              "    <tr>\n",
              "      <th>NO_MUNICIPIO_ESC</th>\n",
              "      <td>NaN</td>\n",
              "      <td>NaN</td>\n",
              "      <td>NaN</td>\n",
              "      <td>NaN</td>\n",
              "      <td>NaN</td>\n",
              "    </tr>\n",
              "    <tr>\n",
              "      <th>CO_UF_ESC</th>\n",
              "      <td>NaN</td>\n",
              "      <td>NaN</td>\n",
              "      <td>NaN</td>\n",
              "      <td>NaN</td>\n",
              "      <td>NaN</td>\n",
              "    </tr>\n",
              "    <tr>\n",
              "      <th>SG_UF_ESC</th>\n",
              "      <td>NaN</td>\n",
              "      <td>NaN</td>\n",
              "      <td>NaN</td>\n",
              "      <td>NaN</td>\n",
              "      <td>NaN</td>\n",
              "    </tr>\n",
              "    <tr>\n",
              "      <th>TP_DEPENDENCIA_ADM_ESC</th>\n",
              "      <td>NaN</td>\n",
              "      <td>NaN</td>\n",
              "      <td>NaN</td>\n",
              "      <td>NaN</td>\n",
              "      <td>NaN</td>\n",
              "    </tr>\n",
              "    <tr>\n",
              "      <th>TP_LOCALIZACAO_ESC</th>\n",
              "      <td>NaN</td>\n",
              "      <td>NaN</td>\n",
              "      <td>NaN</td>\n",
              "      <td>NaN</td>\n",
              "      <td>NaN</td>\n",
              "    </tr>\n",
              "    <tr>\n",
              "      <th>TP_SIT_FUNC_ESC</th>\n",
              "      <td>NaN</td>\n",
              "      <td>NaN</td>\n",
              "      <td>NaN</td>\n",
              "      <td>NaN</td>\n",
              "      <td>NaN</td>\n",
              "    </tr>\n",
              "    <tr>\n",
              "      <th>CO_MUNICIPIO_PROVA</th>\n",
              "      <td>3552205</td>\n",
              "      <td>2910800</td>\n",
              "      <td>2304400</td>\n",
              "      <td>1721000</td>\n",
              "      <td>3118601</td>\n",
              "    </tr>\n",
              "    <tr>\n",
              "      <th>NO_MUNICIPIO_PROVA</th>\n",
              "      <td>Sorocaba</td>\n",
              "      <td>Feira de Santana</td>\n",
              "      <td>Fortaleza</td>\n",
              "      <td>Palmas</td>\n",
              "      <td>Contagem</td>\n",
              "    </tr>\n",
              "    <tr>\n",
              "      <th>CO_UF_PROVA</th>\n",
              "      <td>35</td>\n",
              "      <td>29</td>\n",
              "      <td>23</td>\n",
              "      <td>17</td>\n",
              "      <td>31</td>\n",
              "    </tr>\n",
              "    <tr>\n",
              "      <th>SG_UF_PROVA</th>\n",
              "      <td>SP</td>\n",
              "      <td>BA</td>\n",
              "      <td>CE</td>\n",
              "      <td>TO</td>\n",
              "      <td>MG</td>\n",
              "    </tr>\n",
              "    <tr>\n",
              "      <th>TP_PRESENCA_CN</th>\n",
              "      <td>0</td>\n",
              "      <td>0</td>\n",
              "      <td>0</td>\n",
              "      <td>1</td>\n",
              "      <td>1</td>\n",
              "    </tr>\n",
              "    <tr>\n",
              "      <th>TP_PRESENCA_CH</th>\n",
              "      <td>0</td>\n",
              "      <td>0</td>\n",
              "      <td>0</td>\n",
              "      <td>1</td>\n",
              "      <td>1</td>\n",
              "    </tr>\n",
              "    <tr>\n",
              "      <th>TP_PRESENCA_LC</th>\n",
              "      <td>0</td>\n",
              "      <td>0</td>\n",
              "      <td>0</td>\n",
              "      <td>1</td>\n",
              "      <td>1</td>\n",
              "    </tr>\n",
              "    <tr>\n",
              "      <th>TP_PRESENCA_MT</th>\n",
              "      <td>0</td>\n",
              "      <td>0</td>\n",
              "      <td>0</td>\n",
              "      <td>1</td>\n",
              "      <td>1</td>\n",
              "    </tr>\n",
              "    <tr>\n",
              "      <th>NU_NOTA_CN</th>\n",
              "      <td>NaN</td>\n",
              "      <td>NaN</td>\n",
              "      <td>NaN</td>\n",
              "      <td>483.8</td>\n",
              "      <td>513.6</td>\n",
              "    </tr>\n",
              "    <tr>\n",
              "      <th>NU_NOTA_CH</th>\n",
              "      <td>NaN</td>\n",
              "      <td>NaN</td>\n",
              "      <td>NaN</td>\n",
              "      <td>503.6</td>\n",
              "      <td>575.5</td>\n",
              "    </tr>\n",
              "    <tr>\n",
              "      <th>NU_NOTA_LC</th>\n",
              "      <td>NaN</td>\n",
              "      <td>NaN</td>\n",
              "      <td>NaN</td>\n",
              "      <td>537.3</td>\n",
              "      <td>570.7</td>\n",
              "    </tr>\n",
              "    <tr>\n",
              "      <th>NU_NOTA_MT</th>\n",
              "      <td>NaN</td>\n",
              "      <td>NaN</td>\n",
              "      <td>NaN</td>\n",
              "      <td>392.0</td>\n",
              "      <td>677.0</td>\n",
              "    </tr>\n",
              "    <tr>\n",
              "      <th>TP_LINGUA</th>\n",
              "      <td>0</td>\n",
              "      <td>0</td>\n",
              "      <td>1</td>\n",
              "      <td>1</td>\n",
              "      <td>0</td>\n",
              "    </tr>\n",
              "    <tr>\n",
              "      <th>TP_STATUS_REDACAO</th>\n",
              "      <td>NaN</td>\n",
              "      <td>NaN</td>\n",
              "      <td>NaN</td>\n",
              "      <td>1.0</td>\n",
              "      <td>1.0</td>\n",
              "    </tr>\n",
              "    <tr>\n",
              "      <th>NU_NOTA_REDACAO</th>\n",
              "      <td>NaN</td>\n",
              "      <td>NaN</td>\n",
              "      <td>NaN</td>\n",
              "      <td>460.0</td>\n",
              "      <td>860.0</td>\n",
              "    </tr>\n",
              "    <tr>\n",
              "      <th>Q001</th>\n",
              "      <td>B</td>\n",
              "      <td>C</td>\n",
              "      <td>E</td>\n",
              "      <td>C</td>\n",
              "      <td>E</td>\n",
              "    </tr>\n",
              "    <tr>\n",
              "      <th>Q002</th>\n",
              "      <td>B</td>\n",
              "      <td>E</td>\n",
              "      <td>E</td>\n",
              "      <td>E</td>\n",
              "      <td>E</td>\n",
              "    </tr>\n",
              "    <tr>\n",
              "      <th>Q003</th>\n",
              "      <td>A</td>\n",
              "      <td>B</td>\n",
              "      <td>B</td>\n",
              "      <td>B</td>\n",
              "      <td>C</td>\n",
              "    </tr>\n",
              "    <tr>\n",
              "      <th>Q004</th>\n",
              "      <td>A</td>\n",
              "      <td>B</td>\n",
              "      <td>C</td>\n",
              "      <td>D</td>\n",
              "      <td>C</td>\n",
              "    </tr>\n",
              "    <tr>\n",
              "      <th>Q005</th>\n",
              "      <td>2</td>\n",
              "      <td>4</td>\n",
              "      <td>2</td>\n",
              "      <td>4</td>\n",
              "      <td>3</td>\n",
              "    </tr>\n",
              "    <tr>\n",
              "      <th>Q006</th>\n",
              "      <td>A</td>\n",
              "      <td>C</td>\n",
              "      <td>B</td>\n",
              "      <td>E</td>\n",
              "      <td>G</td>\n",
              "    </tr>\n",
              "    <tr>\n",
              "      <th>Q007</th>\n",
              "      <td>A</td>\n",
              "      <td>A</td>\n",
              "      <td>A</td>\n",
              "      <td>A</td>\n",
              "      <td>A</td>\n",
              "    </tr>\n",
              "    <tr>\n",
              "      <th>Q008</th>\n",
              "      <td>B</td>\n",
              "      <td>B</td>\n",
              "      <td>B</td>\n",
              "      <td>C</td>\n",
              "      <td>C</td>\n",
              "    </tr>\n",
              "    <tr>\n",
              "      <th>Q009</th>\n",
              "      <td>C</td>\n",
              "      <td>C</td>\n",
              "      <td>B</td>\n",
              "      <td>C</td>\n",
              "      <td>D</td>\n",
              "    </tr>\n",
              "    <tr>\n",
              "      <th>Q010</th>\n",
              "      <td>A</td>\n",
              "      <td>A</td>\n",
              "      <td>A</td>\n",
              "      <td>A</td>\n",
              "      <td>B</td>\n",
              "    </tr>\n",
              "    <tr>\n",
              "      <th>Q011</th>\n",
              "      <td>A</td>\n",
              "      <td>A</td>\n",
              "      <td>A</td>\n",
              "      <td>B</td>\n",
              "      <td>A</td>\n",
              "    </tr>\n",
              "    <tr>\n",
              "      <th>Q012</th>\n",
              "      <td>B</td>\n",
              "      <td>B</td>\n",
              "      <td>B</td>\n",
              "      <td>B</td>\n",
              "      <td>B</td>\n",
              "    </tr>\n",
              "    <tr>\n",
              "      <th>Q013</th>\n",
              "      <td>A</td>\n",
              "      <td>A</td>\n",
              "      <td>A</td>\n",
              "      <td>A</td>\n",
              "      <td>B</td>\n",
              "    </tr>\n",
              "    <tr>\n",
              "      <th>Q014</th>\n",
              "      <td>A</td>\n",
              "      <td>A</td>\n",
              "      <td>A</td>\n",
              "      <td>B</td>\n",
              "      <td>B</td>\n",
              "    </tr>\n",
              "    <tr>\n",
              "      <th>Q015</th>\n",
              "      <td>A</td>\n",
              "      <td>A</td>\n",
              "      <td>A</td>\n",
              "      <td>A</td>\n",
              "      <td>A</td>\n",
              "    </tr>\n",
              "    <tr>\n",
              "      <th>Q016</th>\n",
              "      <td>A</td>\n",
              "      <td>A</td>\n",
              "      <td>A</td>\n",
              "      <td>A</td>\n",
              "      <td>B</td>\n",
              "    </tr>\n",
              "    <tr>\n",
              "      <th>Q017</th>\n",
              "      <td>A</td>\n",
              "      <td>A</td>\n",
              "      <td>A</td>\n",
              "      <td>A</td>\n",
              "      <td>A</td>\n",
              "    </tr>\n",
              "    <tr>\n",
              "      <th>Q018</th>\n",
              "      <td>A</td>\n",
              "      <td>A</td>\n",
              "      <td>A</td>\n",
              "      <td>A</td>\n",
              "      <td>A</td>\n",
              "    </tr>\n",
              "    <tr>\n",
              "      <th>Q019</th>\n",
              "      <td>A</td>\n",
              "      <td>B</td>\n",
              "      <td>B</td>\n",
              "      <td>C</td>\n",
              "      <td>B</td>\n",
              "    </tr>\n",
              "    <tr>\n",
              "      <th>Q020</th>\n",
              "      <td>A</td>\n",
              "      <td>A</td>\n",
              "      <td>A</td>\n",
              "      <td>A</td>\n",
              "      <td>A</td>\n",
              "    </tr>\n",
              "    <tr>\n",
              "      <th>Q021</th>\n",
              "      <td>A</td>\n",
              "      <td>A</td>\n",
              "      <td>A</td>\n",
              "      <td>B</td>\n",
              "      <td>A</td>\n",
              "    </tr>\n",
              "    <tr>\n",
              "      <th>Q022</th>\n",
              "      <td>C</td>\n",
              "      <td>E</td>\n",
              "      <td>C</td>\n",
              "      <td>D</td>\n",
              "      <td>C</td>\n",
              "    </tr>\n",
              "    <tr>\n",
              "      <th>Q023</th>\n",
              "      <td>A</td>\n",
              "      <td>A</td>\n",
              "      <td>A</td>\n",
              "      <td>A</td>\n",
              "      <td>B</td>\n",
              "    </tr>\n",
              "    <tr>\n",
              "      <th>Q024</th>\n",
              "      <td>C</td>\n",
              "      <td>A</td>\n",
              "      <td>A</td>\n",
              "      <td>B</td>\n",
              "      <td>B</td>\n",
              "    </tr>\n",
              "    <tr>\n",
              "      <th>Q025</th>\n",
              "      <td>B</td>\n",
              "      <td>B</td>\n",
              "      <td>B</td>\n",
              "      <td>B</td>\n",
              "      <td>B</td>\n",
              "    </tr>\n",
              "  </tbody>\n",
              "</table>\n",
              "</div>\n",
              "      <button class=\"colab-df-convert\" onclick=\"convertToInteractive('df-56e5ca8d-7292-4372-94c9-ea616f53c907')\"\n",
              "              title=\"Convert this dataframe to an interactive table.\"\n",
              "              style=\"display:none;\">\n",
              "        \n",
              "  <svg xmlns=\"http://www.w3.org/2000/svg\" height=\"24px\"viewBox=\"0 0 24 24\"\n",
              "       width=\"24px\">\n",
              "    <path d=\"M0 0h24v24H0V0z\" fill=\"none\"/>\n",
              "    <path d=\"M18.56 5.44l.94 2.06.94-2.06 2.06-.94-2.06-.94-.94-2.06-.94 2.06-2.06.94zm-11 1L8.5 8.5l.94-2.06 2.06-.94-2.06-.94L8.5 2.5l-.94 2.06-2.06.94zm10 10l.94 2.06.94-2.06 2.06-.94-2.06-.94-.94-2.06-.94 2.06-2.06.94z\"/><path d=\"M17.41 7.96l-1.37-1.37c-.4-.4-.92-.59-1.43-.59-.52 0-1.04.2-1.43.59L10.3 9.45l-7.72 7.72c-.78.78-.78 2.05 0 2.83L4 21.41c.39.39.9.59 1.41.59.51 0 1.02-.2 1.41-.59l7.78-7.78 2.81-2.81c.8-.78.8-2.07 0-2.86zM5.41 20L4 18.59l7.72-7.72 1.47 1.35L5.41 20z\"/>\n",
              "  </svg>\n",
              "      </button>\n",
              "      \n",
              "  <style>\n",
              "    .colab-df-container {\n",
              "      display:flex;\n",
              "      flex-wrap:wrap;\n",
              "      gap: 12px;\n",
              "    }\n",
              "\n",
              "    .colab-df-convert {\n",
              "      background-color: #E8F0FE;\n",
              "      border: none;\n",
              "      border-radius: 50%;\n",
              "      cursor: pointer;\n",
              "      display: none;\n",
              "      fill: #1967D2;\n",
              "      height: 32px;\n",
              "      padding: 0 0 0 0;\n",
              "      width: 32px;\n",
              "    }\n",
              "\n",
              "    .colab-df-convert:hover {\n",
              "      background-color: #E2EBFA;\n",
              "      box-shadow: 0px 1px 2px rgba(60, 64, 67, 0.3), 0px 1px 3px 1px rgba(60, 64, 67, 0.15);\n",
              "      fill: #174EA6;\n",
              "    }\n",
              "\n",
              "    [theme=dark] .colab-df-convert {\n",
              "      background-color: #3B4455;\n",
              "      fill: #D2E3FC;\n",
              "    }\n",
              "\n",
              "    [theme=dark] .colab-df-convert:hover {\n",
              "      background-color: #434B5C;\n",
              "      box-shadow: 0px 1px 3px 1px rgba(0, 0, 0, 0.15);\n",
              "      filter: drop-shadow(0px 1px 2px rgba(0, 0, 0, 0.3));\n",
              "      fill: #FFFFFF;\n",
              "    }\n",
              "  </style>\n",
              "\n",
              "      <script>\n",
              "        const buttonEl =\n",
              "          document.querySelector('#df-56e5ca8d-7292-4372-94c9-ea616f53c907 button.colab-df-convert');\n",
              "        buttonEl.style.display =\n",
              "          google.colab.kernel.accessAllowed ? 'block' : 'none';\n",
              "\n",
              "        async function convertToInteractive(key) {\n",
              "          const element = document.querySelector('#df-56e5ca8d-7292-4372-94c9-ea616f53c907');\n",
              "          const dataTable =\n",
              "            await google.colab.kernel.invokeFunction('convertToInteractive',\n",
              "                                                     [key], {});\n",
              "          if (!dataTable) return;\n",
              "\n",
              "          const docLinkHtml = 'Like what you see? Visit the ' +\n",
              "            '<a target=\"_blank\" href=https://colab.research.google.com/notebooks/data_table.ipynb>data table notebook</a>'\n",
              "            + ' to learn more about interactive tables.';\n",
              "          element.innerHTML = '';\n",
              "          dataTable['output_type'] = 'display_data';\n",
              "          await google.colab.output.renderOutput(dataTable, element);\n",
              "          const docLink = document.createElement('div');\n",
              "          docLink.innerHTML = docLinkHtml;\n",
              "          element.appendChild(docLink);\n",
              "        }\n",
              "      </script>\n",
              "    </div>\n",
              "  </div>\n",
              "  "
            ]
          },
          "metadata": {},
          "execution_count": 10
        }
      ]
    },
    {
      "cell_type": "code",
      "source": [
        "print('Número total de inscritos:', data.shape[0])\n"
      ],
      "metadata": {
        "colab": {
          "base_uri": "https://localhost:8080/"
        },
        "id": "ipG4PoQJaj_t",
        "outputId": "93c6d349-efeb-40e7-b568-8126abe183a6"
      },
      "execution_count": null,
      "outputs": [
        {
          "output_type": "stream",
          "name": "stdout",
          "text": [
            "Número total de inscritos: 5095171\n"
          ]
        }
      ]
    },
    {
      "cell_type": "markdown",
      "source": [
        "Limpeza da Base de Dados\n",
        "No primeiro dia do Exame, foram aplicadas as provas de Linguagens e Códigos (LC), Redação e Ciências Humanas (CH). No segundo dia, foram aplicadas as provas de Ciências da Natureza (CN) e Matemática (MT). Observa-se que as colunas de presença encontram-se redundantes dentre as matérias do mesmo dia, então uma coluna foi removida."
      ],
      "metadata": {
        "id": "sYqDSCilaqXa"
      }
    },
    {
      "cell_type": "code",
      "source": [
        "(data['TP_PRESENCA_CN'] == data['TP_PRESENCA_MT']).all()\n"
      ],
      "metadata": {
        "colab": {
          "base_uri": "https://localhost:8080/"
        },
        "id": "31c6QyUKasXp",
        "outputId": "7545f904-eb50-4b6a-b5d2-11f9618be431"
      },
      "execution_count": null,
      "outputs": [
        {
          "output_type": "execute_result",
          "data": {
            "text/plain": [
              "True"
            ]
          },
          "metadata": {},
          "execution_count": 12
        }
      ]
    },
    {
      "cell_type": "code",
      "source": [
        "(data['TP_PRESENCA_LC'] == data['TP_PRESENCA_CH']).all()\n",
        "\n",
        "\n",
        "     "
      ],
      "metadata": {
        "colab": {
          "base_uri": "https://localhost:8080/"
        },
        "id": "llK4MxXkaxBK",
        "outputId": "83d0da92-c8e4-44a7-ae2f-e3a8ff1ababf"
      },
      "execution_count": null,
      "outputs": [
        {
          "output_type": "execute_result",
          "data": {
            "text/plain": [
              "True"
            ]
          },
          "metadata": {},
          "execution_count": 13
        }
      ]
    },
    {
      "cell_type": "code",
      "source": [
        "data = data.drop(columns=['TP_PRESENCA_CN', 'TP_PRESENCA_LC'])\n"
      ],
      "metadata": {
        "id": "EhqJ4mhfa0Om"
      },
      "execution_count": null,
      "outputs": []
    },
    {
      "cell_type": "code",
      "source": [
        "data = data.rename(columns={'TP_PRESENCA_CH': 'TP_PRESENCA_D1', 'TP_PRESENCA_MT': 'TP_PRESENCA_D2'})\n"
      ],
      "metadata": {
        "id": "jc1Guk3La4PC"
      },
      "execution_count": null,
      "outputs": []
    },
    {
      "cell_type": "code",
      "source": [
        "data = data.drop(columns=['CO_UF_PROVA', 'CO_UF_ESC'])\n"
      ],
      "metadata": {
        "id": "bKSKLmTia822"
      },
      "execution_count": null,
      "outputs": []
    },
    {
      "cell_type": "code",
      "source": [
        "data.isnull().sum()\n"
      ],
      "metadata": {
        "colab": {
          "base_uri": "https://localhost:8080/"
        },
        "id": "Qsd9nHMVa_7f",
        "outputId": "6071630d-f554-4692-fca8-390d768dca15"
      },
      "execution_count": null,
      "outputs": [
        {
          "output_type": "execute_result",
          "data": {
            "text/plain": [
              "NU_INSCRICAO                    0\n",
              "TP_FAIXA_ETARIA                 0\n",
              "TP_SEXO                         0\n",
              "TP_ESTADO_CIVIL                 0\n",
              "TP_COR_RACA                     0\n",
              "TP_NACIONALIDADE                0\n",
              "TP_ST_CONCLUSAO                 0\n",
              "TP_ANO_CONCLUIU                 0\n",
              "TP_ESCOLA                       0\n",
              "TP_ENSINO                 2217036\n",
              "IN_TREINEIRO                    0\n",
              "CO_MUNICIPIO_ESC          3947784\n",
              "NO_MUNICIPIO_ESC          3947784\n",
              "SG_UF_ESC                 3947784\n",
              "TP_DEPENDENCIA_ADM_ESC    3947784\n",
              "TP_LOCALIZACAO_ESC        3947784\n",
              "TP_SIT_FUNC_ESC           3947784\n",
              "CO_MUNICIPIO_PROVA              0\n",
              "NO_MUNICIPIO_PROVA              0\n",
              "SG_UF_PROVA                     0\n",
              "TP_PRESENCA_D1                  0\n",
              "TP_PRESENCA_D2                  0\n",
              "NU_NOTA_CN                1384836\n",
              "NU_NOTA_CH                1172125\n",
              "NU_NOTA_LC                1172125\n",
              "NU_NOTA_MT                1384836\n",
              "TP_LINGUA                       0\n",
              "TP_STATUS_REDACAO         1172126\n",
              "NU_NOTA_REDACAO           1172126\n",
              "Q001                            0\n",
              "Q002                            0\n",
              "Q003                            0\n",
              "Q004                            0\n",
              "Q005                            0\n",
              "Q006                            0\n",
              "Q007                            0\n",
              "Q008                            0\n",
              "Q009                            0\n",
              "Q010                            0\n",
              "Q011                            0\n",
              "Q012                            0\n",
              "Q013                            0\n",
              "Q014                            0\n",
              "Q015                            0\n",
              "Q016                            0\n",
              "Q017                            0\n",
              "Q018                            0\n",
              "Q019                            0\n",
              "Q020                            0\n",
              "Q021                            0\n",
              "Q022                            0\n",
              "Q023                            0\n",
              "Q024                            0\n",
              "Q025                            0\n",
              "dtype: int64"
            ]
          },
          "metadata": {},
          "execution_count": 17
        }
      ]
    },
    {
      "cell_type": "code",
      "source": [
        "data['TP_ENSINO'].isnull().sum()/data.shape[0]\n"
      ],
      "metadata": {
        "colab": {
          "base_uri": "https://localhost:8080/"
        },
        "id": "zlr50ULVbKTZ",
        "outputId": "da1ef184-1ccb-46e7-8c01-8ac20bb9573e"
      },
      "execution_count": null,
      "outputs": [
        {
          "output_type": "execute_result",
          "data": {
            "text/plain": [
              "0.43512494477614194"
            ]
          },
          "metadata": {},
          "execution_count": 18
        }
      ]
    },
    {
      "cell_type": "code",
      "source": [
        "data['CO_MUNICIPIO_ESC'].isnull().sum()/data.shape[0]\n"
      ],
      "metadata": {
        "colab": {
          "base_uri": "https://localhost:8080/"
        },
        "id": "Ku778rcDbOUU",
        "outputId": "37843878-4ee8-47c2-91bd-ae9dbd5d948b"
      },
      "execution_count": null,
      "outputs": [
        {
          "output_type": "execute_result",
          "data": {
            "text/plain": [
              "0.7748089318297658"
            ]
          },
          "metadata": {},
          "execution_count": 19
        }
      ]
    },
    {
      "cell_type": "markdown",
      "source": [
        "Observa-se que existe uma grande quantidade de dados ausentes relacionados às informações sobre a escola do candidato (cerca de 76% dos dados) e sobre o tipo de ensino (aproximadamente 68%). Deste modo, estas colunas serão desconsideradas na análise."
      ],
      "metadata": {
        "id": "dHMockZObUYj"
      }
    },
    {
      "cell_type": "code",
      "source": [
        "data = data.drop(columns=['TP_ENSINO', 'CO_MUNICIPIO_ESC', 'NO_MUNICIPIO_ESC', 'SG_UF_ESC',\n",
        "                      'TP_DEPENDENCIA_ADM_ESC', 'TP_LOCALIZACAO_ESC', 'TP_SIT_FUNC_ESC'])\n"
      ],
      "metadata": {
        "id": "f0W1dJiCbWL9"
      },
      "execution_count": null,
      "outputs": []
    },
    {
      "cell_type": "markdown",
      "source": [
        "No questionário sócio-econômico (colunas Q001-Q025) existem apenas 2 valores ausentes. Para que o número absoluto do total de candidatos seja mantido, estes valores ausentes serão substituidos pela moda de cada coluna."
      ],
      "metadata": {
        "id": "ll2qIzrebcVw"
      }
    },
    {
      "cell_type": "code",
      "source": [
        "for column in ['Q001', 'Q002', 'Q003', 'Q004', 'Q005', 'Q006', 'Q007', 'Q008', 'Q009', 'Q010', 'Q011', 'Q012', 'Q013', 'Q014', \n",
        "               'Q015', 'Q016', 'Q017', 'Q018', 'Q019', 'Q020', 'Q021', 'Q022', 'Q023', 'Q024', 'Q025']:\n",
        "    data[column].fillna(data[column].mode()[0], inplace=True)\n",
        "\n"
      ],
      "metadata": {
        "id": "fOSB1ThWbd7J"
      },
      "execution_count": null,
      "outputs": []
    },
    {
      "cell_type": "markdown",
      "source": [
        "Existem mais de 1 milhão de entradas nulas relacionadas às notas dos participantes. Observa-se que estes valores ausentes correspondem aos candidatos que não compareceram ou que foram eliminados em pelo menos um dos dias de prova. Deste modo, serão mantidos valores nulos de notas, pois representam uma informação diferente de nota=0 (que corresponde a responder todas as perguntas incorretamente). Porém, estes valores nulos serão desconsiderados na etapa final de análise do desempenho dos participantes."
      ],
      "metadata": {
        "id": "uNPYA-AKbnEg"
      }
    },
    {
      "cell_type": "code",
      "source": [
        "df_provas = data[['TP_PRESENCA_D1', 'TP_PRESENCA_D2',\n",
        "                  'NU_NOTA_CN', 'NU_NOTA_CH', 'NU_NOTA_LC', \n",
        "                  'NU_NOTA_MT', 'TP_STATUS_REDACAO', 'NU_NOTA_REDACAO']]\n",
        "\n"
      ],
      "metadata": {
        "id": "s68G-E0rbprb"
      },
      "execution_count": null,
      "outputs": []
    },
    {
      "cell_type": "code",
      "source": [
        "df_presente = df_provas[(df_provas['TP_PRESENCA_D1'] == 1) & (df_provas['TP_PRESENCA_D2'] == 1)]\n",
        "\n"
      ],
      "metadata": {
        "id": "kg0NdN0-btRP"
      },
      "execution_count": null,
      "outputs": []
    },
    {
      "cell_type": "code",
      "source": [
        "## Não há notas nulas para participantes que estiveram presentes nos dois dias\n",
        "df_presente[['NU_NOTA_CN', 'NU_NOTA_CH', 'NU_NOTA_LC', 'NU_NOTA_MT', \n",
        "             'TP_STATUS_REDACAO', 'NU_NOTA_REDACAO' ]].isnull().sum()\n"
      ],
      "metadata": {
        "colab": {
          "base_uri": "https://localhost:8080/"
        },
        "id": "3-4WI5fObwtm",
        "outputId": "44d4447f-530f-4bb7-cc75-0164051486c1"
      },
      "execution_count": null,
      "outputs": [
        {
          "output_type": "execute_result",
          "data": {
            "text/plain": [
              "NU_NOTA_CN           0\n",
              "NU_NOTA_CH           0\n",
              "NU_NOTA_LC           0\n",
              "NU_NOTA_MT           0\n",
              "TP_STATUS_REDACAO    1\n",
              "NU_NOTA_REDACAO      1\n",
              "dtype: int64"
            ]
          },
          "metadata": {},
          "execution_count": 24
        }
      ]
    },
    {
      "cell_type": "markdown",
      "source": [
        "Salvar arquivo parcial, com tratamento de dados feito até o momento."
      ],
      "metadata": {
        "id": "Hl-VO80pb3Yu"
      }
    },
    {
      "cell_type": "code",
      "source": [
        "%%time\n",
        "data.to_csv('dados_parcial_enem2019.csv', index = False)\n"
      ],
      "metadata": {
        "colab": {
          "base_uri": "https://localhost:8080/"
        },
        "id": "M4Tao2vjb7Li",
        "outputId": "82d6fa36-4c38-4409-b336-2ba7bc3d847a"
      },
      "execution_count": null,
      "outputs": [
        {
          "output_type": "stream",
          "name": "stdout",
          "text": [
            "CPU times: user 1min 4s, sys: 1.63 s, total: 1min 5s\n",
            "Wall time: 1min 6s\n"
          ]
        }
      ]
    },
    {
      "cell_type": "markdown",
      "source": [
        "Tratamento de Variáveis Categóricas\n",
        "Tradução dos valores das variáveis categóricas, de acordo com a tabela de metadados, para facilitar visualização.\n",
        "\n",
        "Dados dos inscritos"
      ],
      "metadata": {
        "id": "O4fRf3AbcPF6"
      }
    },
    {
      "cell_type": "code",
      "source": [
        "data['TP_SEXO'] = data['TP_SEXO'].astype('category')\n",
        "\n"
      ],
      "metadata": {
        "id": "0nXk8OMKcQ4p"
      },
      "execution_count": null,
      "outputs": []
    },
    {
      "cell_type": "code",
      "source": [
        "dtype = pd.CategoricalDtype(['Não Informado', 'Solteiro', 'Casado', 'Divorciado', 'Viúvo'], ordered = False)\n",
        "data['TP_ESTADO_CIVIL'] = pd.Categorical.from_codes(codes=data['TP_ESTADO_CIVIL'], dtype= dtype)\n",
        "\n"
      ],
      "metadata": {
        "id": "HiRHjXd0cUaw"
      },
      "execution_count": null,
      "outputs": []
    },
    {
      "cell_type": "code",
      "source": [
        "dtype = pd.CategoricalDtype(['Não Declarado', 'Branca', 'Preta', 'Parda', 'Amarela', 'Indígena', 'Sem info'], ordered = False)\n",
        "data['TP_COR_RACA'] = pd.Categorical.from_codes(codes=data['TP_COR_RACA'], dtype= dtype)\n",
        "\n"
      ],
      "metadata": {
        "id": "Iw7OWj4icW-Q"
      },
      "execution_count": null,
      "outputs": []
    },
    {
      "cell_type": "code",
      "source": [
        "dtype = pd.CategoricalDtype(['Não Informada', 'Brasileiro', 'Brasileiro Naturalizado', 'Estrangeiro', 'Br nascido no exterior'], ordered = False)\n",
        "data['TP_NACIONALIDADE'] = pd.Categorical.from_codes(codes=data['TP_NACIONALIDADE'], dtype= dtype)\n"
      ],
      "metadata": {
        "id": "gFkVdEVmcZqN"
      },
      "execution_count": null,
      "outputs": []
    },
    {
      "cell_type": "code",
      "source": [
        "dtype = pd.CategoricalDtype(['Concluido', 'Cursando - conclusão 2021', 'Cursando', 'Não concluido e não cursando'], ordered = False)\n",
        "data['TP_ST_CONCLUSAO'] = pd.Categorical.from_codes(codes=data['TP_ST_CONCLUSAO']-1, dtype= dtype)\n"
      ],
      "metadata": {
        "id": "jGB4RKqUcb0c"
      },
      "execution_count": null,
      "outputs": []
    },
    {
      "cell_type": "code",
      "source": [
        "dtype = pd.CategoricalDtype(['Não Respondeu', 'Pública', 'Privada'], ordered = False)\n",
        "data['TP_ESCOLA'] = pd.Categorical.from_codes(codes=data['TP_ESCOLA']-1, dtype= dtype)\n",
        "\n"
      ],
      "metadata": {
        "id": "H3VDbB9Cce0E"
      },
      "execution_count": null,
      "outputs": []
    },
    {
      "cell_type": "code",
      "source": [
        "data['IN_TREINEIRO'] = data['IN_TREINEIRO'].map({ 0 : 'Não', 1 : 'Sim'})\n",
        "\n",
        "\n",
        "     "
      ],
      "metadata": {
        "id": "CqUUh7yEcipN"
      },
      "execution_count": null,
      "outputs": []
    },
    {
      "cell_type": "markdown",
      "source": [
        "Dados das provas e da redação"
      ],
      "metadata": {
        "id": "1O1bVXYpclqM"
      }
    },
    {
      "cell_type": "code",
      "source": [
        "data['TP_PRESENCA_D1'] = data['TP_PRESENCA_D1'].map({ 0 : 'Faltou', 1 : 'Presente', 2: 'Eliminado'})\n",
        "data['TP_PRESENCA_D2'] = data['TP_PRESENCA_D2'].map({ 0 : 'Faltou', 1 : 'Presente', 2: 'Eliminado'})\n",
        "\n"
      ],
      "metadata": {
        "id": "w7cEYeNlcnlp"
      },
      "execution_count": null,
      "outputs": []
    },
    {
      "cell_type": "code",
      "source": [
        "redacao = {1:'Sem problemas', 2:'Anulada', 3: 'Cópia Texto Motivador', 4: 'Em Branco', \n",
        "           6: 'Fuga ao tema', 7: 'Não atendimento ao tipo textual', 8: 'Texto insuficiente', \n",
        "           9: 'Parte desconectada' }\n",
        "data['TP_STATUS_REDACAO'] = data['TP_STATUS_REDACAO'].map(redacao)\n",
        "\n",
        "\n",
        "     "
      ],
      "metadata": {
        "id": "yXS-AkuRcrix"
      },
      "execution_count": null,
      "outputs": []
    },
    {
      "cell_type": "code",
      "source": [
        "#Formatar tipo das colunas do questionário sócio-econômico\n",
        "\n",
        "for column in ['Q001', 'Q002', 'Q003', 'Q004', 'Q006',\n",
        "       'Q007', 'Q008', 'Q009', 'Q010', 'Q011', 'Q012', 'Q013', 'Q014', 'Q015',\n",
        "       'Q016', 'Q017', 'Q018', 'Q019', 'Q020', 'Q021', 'Q022', 'Q023', 'Q024',\n",
        "       'Q025']:\n",
        "    data[column] = pd.Categorical(data[column])   \n"
      ],
      "metadata": {
        "id": "bk8T0YdfcvLX"
      },
      "execution_count": null,
      "outputs": []
    },
    {
      "cell_type": "code",
      "source": [
        "#Q005 -> número de residentes na casa -> tipo inteiro\n",
        "\n",
        "data['Q005'] = data['Q005'].astype(int)\n",
        "\n"
      ],
      "metadata": {
        "id": "7aJ2tqr9c3L0"
      },
      "execution_count": null,
      "outputs": []
    },
    {
      "cell_type": "markdown",
      "source": [
        "Salvar a base de dados reduzida em arquivo."
      ],
      "metadata": {
        "id": "E4AYKTkjc7eH"
      }
    },
    {
      "cell_type": "code",
      "source": [
        "%%time\n",
        "data.to_csv('dados_enem2019.csv', index = False)\n"
      ],
      "metadata": {
        "colab": {
          "base_uri": "https://localhost:8080/"
        },
        "id": "9-omlJnUc-8Y",
        "outputId": "0a37ff59-5674-45db-89ac-f18f28adb044"
      },
      "execution_count": null,
      "outputs": [
        {
          "output_type": "stream",
          "name": "stdout",
          "text": [
            "CPU times: user 1min 8s, sys: 2.04 s, total: 1min 10s\n",
            "Wall time: 1min 11s\n"
          ]
        }
      ]
    },
    {
      "cell_type": "markdown",
      "source": [
        "Análise do Perfil dos Candidatos Inscritos\n",
        "Voltar ao índice\n",
        "\n",
        "Características demográficas"
      ],
      "metadata": {
        "id": "eSiBqZJodYVF"
      }
    },
    {
      "cell_type": "code",
      "source": [
        "data['TP_SEXO'] = data['TP_SEXO'].map({'F':'Feminino', 'M':'Masculino'})\n",
        "data['TP_SEXO'].value_counts(normalize=True)\n"
      ],
      "metadata": {
        "colab": {
          "base_uri": "https://localhost:8080/"
        },
        "id": "O8uTu4Wsdd2E",
        "outputId": "9e0381cd-7428-46fb-8569-0e0ffb0a0361"
      },
      "execution_count": null,
      "outputs": [
        {
          "output_type": "execute_result",
          "data": {
            "text/plain": [
              "Feminino     0.595026\n",
              "Masculino    0.404974\n",
              "Name: TP_SEXO, dtype: float64"
            ]
          },
          "metadata": {},
          "execution_count": 39
        }
      ]
    },
    {
      "cell_type": "code",
      "source": [
        "ax = sns.countplot(y = 'TP_SEXO',data =data, color ='royalblue')\n",
        "ax.set(ylabel=None)\n",
        "plt.xlabel('Número de Inscritos')\n",
        "plt.title('Sexo dos Participantes Inscritos')\n",
        "plt.show()\n"
      ],
      "metadata": {
        "colab": {
          "base_uri": "https://localhost:8080/",
          "height": 301
        },
        "id": "V-PAPLAIdiGs",
        "outputId": "c538742f-d513-41b1-b2dc-4ef09b519e77"
      },
      "execution_count": null,
      "outputs": [
        {
          "output_type": "display_data",
          "data": {
            "text/plain": [
              "<Figure size 432x288 with 1 Axes>"
            ],
            "image/png": "[encoded data removed]"
          },
          "metadata": {
            "needs_background": "light"
          }
        }
      ]
    },
    {
      "cell_type": "code",
      "source": [
        "data['TP_ESTADO_CIVIL'].value_counts(normalize=True)\n",
        "\n"
      ],
      "metadata": {
        "colab": {
          "base_uri": "https://localhost:8080/"
        },
        "id": "--2SR0RDdmCe",
        "outputId": "120d43fe-88fd-4ad3-ef35-89eb968ab91d"
      },
      "execution_count": null,
      "outputs": [
        {
          "output_type": "execute_result",
          "data": {
            "text/plain": [
              "Solteiro         0.863248\n",
              "Casado           0.077691\n",
              "Não Informado    0.040587\n",
              "Divorciado       0.017250\n",
              "Viúvo            0.001224\n",
              "Name: TP_ESTADO_CIVIL, dtype: float64"
            ]
          },
          "metadata": {},
          "execution_count": 41
        }
      ]
    },
    {
      "cell_type": "code",
      "source": [
        "ax = sns.countplot(y = 'TP_ESTADO_CIVIL',  data =data, color ='royalblue')\n",
        "ax.set(ylabel=None)\n",
        "plt.xlabel('Número de Inscritos')\n",
        "plt.title('Estado Civil dos Participantes Inscritos')\n",
        "plt.show()\n"
      ],
      "metadata": {
        "colab": {
          "base_uri": "https://localhost:8080/",
          "height": 301
        },
        "id": "xi5ZHpyAdrR1",
        "outputId": "e9e256b1-3a8f-4c7b-8aae-305a1d5cbd6d"
      },
      "execution_count": null,
      "outputs": [
        {
          "output_type": "display_data",
          "data": {
            "text/plain": [
              "<Figure size 432x288 with 1 Axes>"
            ],
            "image/png": "[encoded data removed]"
          },
          "metadata": {
            "needs_background": "light"
          }
        }
      ]
    },
    {
      "cell_type": "code",
      "source": [
        "data['TP_COR_RACA'].value_counts(normalize=True)\n"
      ],
      "metadata": {
        "colab": {
          "base_uri": "https://localhost:8080/"
        },
        "id": "oz8a7hgKdup5",
        "outputId": "1410dddc-9c32-4206-fe2f-782546ff823f"
      },
      "execution_count": null,
      "outputs": [
        {
          "output_type": "execute_result",
          "data": {
            "text/plain": [
              "Parda            0.463971\n",
              "Branca           0.359507\n",
              "Preta            0.127238\n",
              "Amarela          0.022797\n",
              "Não Declarado    0.020254\n",
              "Indígena         0.006233\n",
              "Sem info         0.000000\n",
              "Name: TP_COR_RACA, dtype: float64"
            ]
          },
          "metadata": {},
          "execution_count": 43
        }
      ]
    },
    {
      "cell_type": "code",
      "source": [
        "ax = sns.countplot(y = 'TP_COR_RACA',  data =data, color ='royalblue')\n",
        "ax.set(ylabel=None)\n",
        "plt.xlabel('Número de Inscritos')\n",
        "plt.title('Cor / Raça dos Participantes Inscritos')\n",
        "plt.show()\n"
      ],
      "metadata": {
        "colab": {
          "base_uri": "https://localhost:8080/",
          "height": 301
        },
        "id": "jmkXoMTTdwH3",
        "outputId": "7cf21e3e-1d54-4cc4-e785-62190392d32a"
      },
      "execution_count": null,
      "outputs": [
        {
          "output_type": "display_data",
          "data": {
            "text/plain": [
              "<Figure size 432x288 with 1 Axes>"
            ],
            "image/png": "[encoded data removed]"
          },
          "metadata": {
            "needs_background": "light"
          }
        }
      ]
    },
    {
      "cell_type": "code",
      "source": [
        "data['TP_NACIONALIDADE'].value_counts(normalize=True)\n",
        "\n"
      ],
      "metadata": {
        "colab": {
          "base_uri": "https://localhost:8080/"
        },
        "id": "G-3hDiybd7fv",
        "outputId": "29862e3c-77ff-4375-85ab-1ea3fa82f77b"
      },
      "execution_count": null,
      "outputs": [
        {
          "output_type": "execute_result",
          "data": {
            "text/plain": [
              "Brasileiro                 0.971493\n",
              "Brasileiro Naturalizado    0.024402\n",
              "Br nascido no exterior     0.001616\n",
              "Não Informada              0.001325\n",
              "Estrangeiro                0.001165\n",
              "Name: TP_NACIONALIDADE, dtype: float64"
            ]
          },
          "metadata": {},
          "execution_count": 45
        }
      ]
    },
    {
      "cell_type": "code",
      "source": [
        "bins= [0,1.9,5.9,10.9,11.9,12.9,13.9,14.9,15.9,16.9,17.9,18.9,19.9,20.9]\n",
        "labels = ['Menor que 17', '17-20', '21-25','26-30','31-35','36-40','41-45','46-50','51-55','56-60','61-65','66-70','Maior que 70']\n",
        "idade = pd.cut(data['TP_FAIXA_ETARIA'], bins=bins, labels=labels, right=False)\n"
      ],
      "metadata": {
        "id": "EyhpUUyieBMf"
      },
      "execution_count": null,
      "outputs": []
    },
    {
      "cell_type": "code",
      "source": [
        "idade.value_counts(normalize= True)\n"
      ],
      "metadata": {
        "colab": {
          "base_uri": "https://localhost:8080/"
        },
        "id": "El9jt8iaeFf1",
        "outputId": "df7d5309-306f-4671-eab6-2b372c6e6ff7"
      },
      "execution_count": null,
      "outputs": [
        {
          "output_type": "execute_result",
          "data": {
            "text/plain": [
              "17-20           0.529518\n",
              "21-25           0.195345\n",
              "26-30           0.079247\n",
              "Menor que 17    0.078635\n",
              "31-35           0.046131\n",
              "36-40           0.031195\n",
              "41-45           0.018317\n",
              "46-50           0.010977\n",
              "51-55           0.006121\n",
              "56-60           0.002894\n",
              "61-65           0.001104\n",
              "66-70           0.000377\n",
              "Maior que 70    0.000141\n",
              "Name: TP_FAIXA_ETARIA, dtype: float64"
            ]
          },
          "metadata": {},
          "execution_count": 47
        }
      ]
    },
    {
      "cell_type": "code",
      "source": [
        "plt.figure(figsize = [12, 5])\n",
        "sns.countplot(x= idade, color ='royalblue')\n",
        "plt.xlabel('Faixa etária')\n",
        "plt.ylabel('Número de Inscritos')\n",
        "plt.title('Participantes Inscritos por Faixa Etária')\n",
        "plt.show()\n"
      ],
      "metadata": {
        "colab": {
          "base_uri": "https://localhost:8080/",
          "height": 305
        },
        "id": "I3j2EPw_eK0Q",
        "outputId": "d869d258-3a35-4512-b8ed-c02175d31075"
      },
      "execution_count": null,
      "outputs": [
        {
          "output_type": "display_data",
          "data": {
            "text/plain": [
              "<Figure size 864x360 with 1 Axes>"
            ],
            "image/png": "[encoded data removed]"
          },
          "metadata": {
            "needs_background": "light"
          }
        }
      ]
    },
    {
      "cell_type": "code",
      "source": [
        "idade_detalhe  = data[(data['TP_FAIXA_ETARIA']<11)&(data['TP_FAIXA_ETARIA']>1)]['TP_FAIXA_ETARIA']+ 15\n"
      ],
      "metadata": {
        "id": "gOIVGkOleNhZ"
      },
      "execution_count": null,
      "outputs": []
    },
    {
      "cell_type": "code",
      "source": [
        "idade_detalhe.value_counts(normalize=True)\n"
      ],
      "metadata": {
        "colab": {
          "base_uri": "https://localhost:8080/"
        },
        "id": "zUvqfaEieRbA",
        "outputId": "da30ad29-e6ec-4ac4-86d1-e5a411299112"
      },
      "execution_count": null,
      "outputs": [
        {
          "output_type": "execute_result",
          "data": {
            "text/plain": [
              "18    0.233982\n",
              "17    0.229411\n",
              "19    0.156271\n",
              "20    0.110843\n",
              "21    0.078604\n",
              "22    0.063096\n",
              "23    0.050816\n",
              "24    0.042309\n",
              "25    0.034668\n",
              "Name: TP_FAIXA_ETARIA, dtype: float64"
            ]
          },
          "metadata": {},
          "execution_count": 50
        }
      ]
    },
    {
      "cell_type": "code",
      "source": [
        "plt.figure(figsize = [8, 4])\n",
        "sns.countplot(x=idade_detalhe, color ='royalblue')\n",
        "plt.ylabel('Número de Inscritos')\n",
        "plt.xlabel('Idade')\n",
        "plt.title('Idade de Participantes Inscritos (na faixa entre 17 e 25 anos)')\n",
        "plt.show()\n"
      ],
      "metadata": {
        "colab": {
          "base_uri": "https://localhost:8080/",
          "height": 301
        },
        "id": "yZt3svxMeSuD",
        "outputId": "db85dce6-2c1d-4c68-acc9-bc9259aef3d8"
      },
      "execution_count": null,
      "outputs": [
        {
          "output_type": "display_data",
          "data": {
            "text/plain": [
              "<Figure size 576x288 with 1 Axes>"
            ],
            "image/png": "[encoded data removed]"
          },
          "metadata": {
            "needs_background": "light"
          }
        }
      ]
    },
    {
      "cell_type": "markdown",
      "source": [
        "Observou-se que a maioria dos candidatos inscritos no ENEM 2019 são brasileiros e solteiros. Cerca de 60% declaram-se como gênero feminino e 40% como masculino. 48% dos participantes declararam raça/ cor parda, 35% raça branca e 12.% raça preta.\n",
        "\n",
        "A maioria dos candidatos possui a idade de 18 anos, sendo a faixa etária de 17 a 20 anos correspondente a 53% dos inscritos. Após esta faixa,o número de participantes tende a diminuir conforme a idade aumenta.\n",
        "\n",
        "Informações relacionadas ao ensino médio do candidato."
      ],
      "metadata": {
        "id": "WVXk1LSjednA"
      }
    },
    {
      "cell_type": "code",
      "source": [
        "data['IN_TREINEIRO'].value_counts(normalize=True)\n"
      ],
      "metadata": {
        "colab": {
          "base_uri": "https://localhost:8080/"
        },
        "id": "z0BBAbWjfY5Q",
        "outputId": "e79a6b8b-c696-409e-b544-0d7516637067"
      },
      "execution_count": null,
      "outputs": [
        {
          "output_type": "execute_result",
          "data": {
            "text/plain": [
              "Não    0.87897\n",
              "Sim    0.12103\n",
              "Name: IN_TREINEIRO, dtype: float64"
            ]
          },
          "metadata": {},
          "execution_count": 52
        }
      ]
    },
    {
      "cell_type": "code",
      "source": [
        "data['TP_ST_CONCLUSAO'].value_counts(normalize=True)\n"
      ],
      "metadata": {
        "colab": {
          "base_uri": "https://localhost:8080/"
        },
        "id": "KR9ngLSSffOf",
        "outputId": "bf1229d1-a894-4dfe-91bd-7a16e74f4025"
      },
      "execution_count": null,
      "outputs": [
        {
          "output_type": "execute_result",
          "data": {
            "text/plain": [
              "Concluido                       0.587391\n",
              "Cursando - conclusão 2021       0.287696\n",
              "Cursando                        0.121030\n",
              "Não concluido e não cursando    0.003883\n",
              "Name: TP_ST_CONCLUSAO, dtype: float64"
            ]
          },
          "metadata": {},
          "execution_count": 53
        }
      ]
    },
    {
      "cell_type": "code",
      "source": [
        "((data['TP_ST_CONCLUSAO']=='Cursando')&(data['IN_TREINEIRO']=='Não')).any()\n",
        "\n"
      ],
      "metadata": {
        "colab": {
          "base_uri": "https://localhost:8080/"
        },
        "id": "43sAbgd2fpRy",
        "outputId": "3ebd1a4b-a392-4912-9bd4-bc7c05e54af2"
      },
      "execution_count": null,
      "outputs": [
        {
          "output_type": "execute_result",
          "data": {
            "text/plain": [
              "False"
            ]
          },
          "metadata": {},
          "execution_count": 54
        }
      ]
    },
    {
      "cell_type": "markdown",
      "source": [
        "Percebe-se que há informações redundates entre estas duas colunas, onde o estado de conclusão \"CURSANDO\", equivale a um candidato do tipo \"TREINEIRO\"."
      ],
      "metadata": {
        "id": "pKlV8V3gfuIQ"
      }
    },
    {
      "cell_type": "code",
      "source": [
        "data['TP_ST_CONCLUSAO'] = data['TP_ST_CONCLUSAO'].replace('Cursando','Cursando = Treineiro')\n",
        "\n"
      ],
      "metadata": {
        "id": "XCw2g0I7fvlh"
      },
      "execution_count": null,
      "outputs": []
    },
    {
      "cell_type": "code",
      "source": [
        "sns.countplot(y = 'TP_ST_CONCLUSAO',  data =data, color ='royalblue')\n",
        "plt.ylabel('')\n",
        "plt.xlabel('Número de Inscritos')\n",
        "plt.title('Status de Conclusão do Ensino Médio')\n",
        "plt.show()\n"
      ],
      "metadata": {
        "colab": {
          "base_uri": "https://localhost:8080/",
          "height": 301
        },
        "id": "MFqs1XhXf0xG",
        "outputId": "cd0c880e-271d-4917-a5c1-a3f2c9c12072"
      },
      "execution_count": null,
      "outputs": [
        {
          "output_type": "display_data",
          "data": {
            "text/plain": [
              "<Figure size 432x288 with 1 Axes>"
            ],
            "image/png": "[encoded data removed]"
          },
          "metadata": {
            "needs_background": "light"
          }
        }
      ]
    },
    {
      "cell_type": "code",
      "source": [
        "sns.countplot(y = 'TP_ESCOLA',  data =data, color ='royalblue')\n",
        "plt.ylabel('')\n",
        "plt.xlabel('Número de Inscritos')\n",
        "plt.title('Tipo de Escola do Ensino Médio')\n",
        "plt.show()\n"
      ],
      "metadata": {
        "colab": {
          "base_uri": "https://localhost:8080/",
          "height": 301
        },
        "id": "mAMdQXsGf6tV",
        "outputId": "6d42f6c9-fe1a-40d7-9937-8e85ec30047d"
      },
      "execution_count": null,
      "outputs": [
        {
          "output_type": "display_data",
          "data": {
            "text/plain": [
              "<Figure size 432x288 with 1 Axes>"
            ],
            "image/png": "[encoded data removed]"
          },
          "metadata": {
            "needs_background": "light"
          }
        }
      ]
    },
    {
      "cell_type": "code",
      "source": [
        "(data['TP_ESCOLA']=='Pública').sum()/((data['TP_ESCOLA']=='Privada').sum())\n",
        "\n"
      ],
      "metadata": {
        "colab": {
          "base_uri": "https://localhost:8080/"
        },
        "id": "0qgcF-lVf_1e",
        "outputId": "59ac57e8-208d-4bad-9a38-cc1b6cae2e27"
      },
      "execution_count": null,
      "outputs": [
        {
          "output_type": "execute_result",
          "data": {
            "text/plain": [
              "5.704848897894587"
            ]
          },
          "metadata": {},
          "execution_count": 58
        }
      ]
    },
    {
      "cell_type": "markdown",
      "source": [
        "Dentre os candidatos que informaram o tipo de escola frequentada durante o ensino médio, há quase 6 vezes mais candidatos de escolas públicas do que escolas privadas."
      ],
      "metadata": {
        "id": "EF46OBNIgFFd"
      }
    },
    {
      "cell_type": "markdown",
      "source": [
        "Informações a respeito do local de prova\n",
        "\n",
        "Distribuição por estado:"
      ],
      "metadata": {
        "id": "U-Uv_JJfgOUk"
      }
    },
    {
      "cell_type": "code",
      "source": [
        "plt.figure(figsize = [12, 5])\n",
        "sns.countplot(x = 'SG_UF_PROVA',  data =data,\n",
        "              order = data['SG_UF_PROVA'].value_counts().index, color ='royalblue' )\n",
        "plt.xlabel('Estado')\n",
        "plt.ylabel('Número de Inscritos')\n",
        "plt.title('Participantes Inscritos por Estado')\n",
        "plt.show()\n"
      ],
      "metadata": {
        "colab": {
          "base_uri": "https://localhost:8080/",
          "height": 300
        },
        "id": "hJD6eE72gPms",
        "outputId": "cf0dab95-c320-42b5-ab81-14cdab33896e"
      },
      "execution_count": null,
      "outputs": [
        {
          "output_type": "display_data",
          "data": {
            "text/plain": [
              "<Figure size 864x360 with 1 Axes>"
            ],
            "image/png": "[encoded data removed]"
          },
          "metadata": {
            "needs_background": "light"
          }
        }
      ]
    },
    {
      "cell_type": "markdown",
      "source": [
        "Para analisar distribuição por região, é necessário criar uma nova coluna 'REGIAO_PROVA', para segmentar os inscritos por região."
      ],
      "metadata": {
        "id": "oud-lkLRgXcO"
      }
    },
    {
      "cell_type": "code",
      "source": [
        "regioes = {'SP':'Sudeste', 'MG':'Sudeste','RJ':'Sudeste','ES':'Sudeste', \n",
        "           'RS':'Sul','PR':'Sul','SC':'Sul', \n",
        "           'GO':'Centro-Oeste','DF':'Centro-Oeste','MT':'Centro-Oeste','MS':'Centro-Oeste',\n",
        "           'BA':'Nordeste','CE':'Nordeste','PE':'Nordeste','MA':'Nordeste','PB':'Nordeste','RN':'Nordeste','PI':'Nordeste',\n",
        "           'AL':'Nordeste','SE':'Nordeste',\n",
        "           'PA':'Norte','AM':'Norte','RO':'Norte','AC':'Norte','RR':'Norte','AP':'Norte','TO':'Norte'}\n"
      ],
      "metadata": {
        "id": "ByWA1qXUgWGP"
      },
      "execution_count": null,
      "outputs": []
    },
    {
      "cell_type": "code",
      "source": [
        "data['REGIAO_PROVA'] = data['SG_UF_PROVA'].map(regioes)\n",
        "\n"
      ],
      "metadata": {
        "id": "2SQ2nILwgf1o"
      },
      "execution_count": null,
      "outputs": []
    },
    {
      "cell_type": "code",
      "source": [
        "sns.countplot(x = 'REGIAO_PROVA',  data =data,\n",
        "              order = data['REGIAO_PROVA'].value_counts().index, color ='royalblue')\n",
        "plt.xlabel('')\n",
        "plt.ylabel('Número de Inscritos')\n",
        "plt.title('Participantes Inscritos por Região Geográfica')\n",
        "plt.show()\n"
      ],
      "metadata": {
        "colab": {
          "base_uri": "https://localhost:8080/",
          "height": 284
        },
        "id": "WbwWa0kggi4V",
        "outputId": "eb590631-9e42-4760-8487-b33ec47aeb38"
      },
      "execution_count": null,
      "outputs": [
        {
          "output_type": "display_data",
          "data": {
            "text/plain": [
              "<Figure size 432x288 with 1 Axes>"
            ],
            "image/png": "[encoded data removed]"
          },
          "metadata": {
            "needs_background": "light"
          }
        }
      ]
    },
    {
      "cell_type": "code",
      "source": [
        "municipios = data['CO_MUNICIPIO_PROVA'].nunique()\n",
        "print(\"O ENEM foi aplicado em\", municipios, 'munícipios.')\n",
        "\n"
      ],
      "metadata": {
        "colab": {
          "base_uri": "https://localhost:8080/"
        },
        "id": "o-bIooOxgpEl",
        "outputId": "18298917-ef2d-478c-c39a-56b70921e7a9"
      },
      "execution_count": null,
      "outputs": [
        {
          "output_type": "stream",
          "name": "stdout",
          "text": [
            "O ENEM foi aplicado em 1727 munícipios.\n"
          ]
        }
      ]
    },
    {
      "cell_type": "markdown",
      "source": [
        "Questionário Sócio-Econômico\n",
        "Os candidatos respodem a um questionário sócio-econômico que contém 25 questões. As respostas são classificadas com letras em ordem alfabética, onde a letra 'A' representa características equivalentes a um menor grau de instrução, renda familiar ou quantidade de equipamentos que possui."
      ],
      "metadata": {
        "id": "MBojJkc4gs35"
      }
    },
    {
      "cell_type": "code",
      "source": [
        "economico = data[['Q001', 'Q002', 'Q003', 'Q004',\n",
        "       'Q005', 'Q006', 'Q007', 'Q008', 'Q009', 'Q010', 'Q011', 'Q012', 'Q013',\n",
        "       'Q014', 'Q015', 'Q016', 'Q017', 'Q018', 'Q019', 'Q020', 'Q021', 'Q022',\n",
        "       'Q023', 'Q024', 'Q025']]\n"
      ],
      "metadata": {
        "id": "GCtn93ftgsK8"
      },
      "execution_count": null,
      "outputs": []
    },
    {
      "cell_type": "code",
      "source": [
        "escolaridade = 'A = Nunca estudou. \\n\\\n",
        "B = Não completou a 4ª série/5º ano do Ensino Fundamental.\\n\\\n",
        "C = Completou a 4ª série/5º ano mas não completou a 8ª série/9º ano do Ensino Fundamental.\\n\\\n",
        "D = Completou a 8ª série/9º ano do Ensino Fundamental mas não completou o Ensino Médio.\\n\\\n",
        "E = Completou o Ensino Médio mas não completou a Faculdade.\\n\\\n",
        "F = Completou a Faculdade mas não completou a Pós-graduação.\\n\\\n",
        "G = Completou a Pós-graduação.\\n\\\n",
        "H = Não sei.'\n"
      ],
      "metadata": {
        "id": "dO3ySGosg2eT"
      },
      "execution_count": null,
      "outputs": []
    },
    {
      "cell_type": "code",
      "source": [
        "plt.figure(figsize = [10,8])\n",
        "plt.subplot(2, 1, 1)\n",
        "ax = sns.countplot(x = 'Q001', data = economico, color ='royalblue')\n",
        "plt.xlabel('')\n",
        "plt.ylabel('Número de participantes')\n",
        "plt.title('Escolaridade do Pai')\n",
        "\n",
        "plt.subplot(2, 1, 2)\n",
        "ax = sns.countplot(x = 'Q002', data = economico, color ='royalblue')\n",
        "plt.xlabel('')\n",
        "plt.ylabel('Número de participantes')\n",
        "plt.title('Escolaridade da Mãe')\n",
        "ax.text(x = -0.3, y = -650000, s = escolaridade)\n",
        "plt.show()\n"
      ],
      "metadata": {
        "colab": {
          "base_uri": "https://localhost:8080/",
          "height": 559
        },
        "id": "pb4_RXsMg5u1",
        "outputId": "d7cde224-9743-46f6-cd53-9a77350f5e5c"
      },
      "execution_count": null,
      "outputs": [
        {
          "output_type": "display_data",
          "data": {
            "text/plain": [
              "<Figure size 720x576 with 2 Axes>"
            ],
            "image/png": "[encoded data removed]"
          },
          "metadata": {
            "needs_background": "light"
          }
        }
      ]
    },
    {
      "cell_type": "code",
      "source": [
        "renda = 'A = Nenhuma Renda, \\n\\\n",
        "B = Até R\\\\$ 1.100,00 \\n\\\n",
        "C = De R\\$ 1.100,01 até R\\$ 1.650,00 \\n\\\n",
        "D = De R\\$ 1.650,01 até R\\$ 2.200,00 \\n\\\n",
        "E = De R\\$ 2.200,01 até R\\$ 2.750,00 \\n\\\n",
        "F = De R\\$ 2.750,01 até R\\$ 3.300,00 \\n\\\n",
        "G = De R\\$ 3.300,01 até R\\$ 4.400,00 \\n\\\n",
        "H = De R\\$ 4.400,01 até R\\$ 5.500,00 \\n\\\n",
        "I = De R\\$ 5.500,01 até R\\$ 6.600,00 \\n\\\n",
        "J = De R\\$ 6.600,01 até R\\$ 7.700,00 \\n\\\n",
        "K = De R\\$ 7.700,01 até R\\$ 8.800,00 \\n\\\n",
        "L = De R\\$ 8.800,01 até R\\$ 9.900,00 \\n\\\n",
        "M = De R\\$ 9.900,01 até R\\$ 11.000,00 \\n\\\n",
        "N = De R\\$ 11.000,01 até R\\$ 13.200,00 \\n\\\n",
        "O = De R\\$ 13.200,01 até R\\$ 16.500,00 \\n\\\n",
        "P = De R\\$ 16.500,01 até R\\$ 22.000,00 \\n\\\n",
        "Q = Acima de R\\$ 22.000,00.'\n"
      ],
      "metadata": {
        "id": "yYuDHvPPg-SA"
      },
      "execution_count": null,
      "outputs": []
    },
    {
      "cell_type": "code",
      "source": [
        "plt.figure(figsize = [12.5,5])\n",
        "ax = sns.countplot(x = 'Q006', data = economico, color ='royalblue')\n",
        "plt.xlabel('')\n",
        "plt.ylabel('Número de participantes')\n",
        "plt.title('Renda Familiar')\n",
        "ax.text(x = 10, y = 250000, s =renda )\n",
        "plt.show()\n"
      ],
      "metadata": {
        "colab": {
          "base_uri": "https://localhost:8080/",
          "height": 284
        },
        "id": "l68EFQ7LhBYw",
        "outputId": "453a5853-dbb4-42e8-aae7-480aa70c08b3"
      },
      "execution_count": null,
      "outputs": [
        {
          "output_type": "display_data",
          "data": {
            "text/plain": [
              "<Figure size 900x360 with 1 Axes>"
            ],
            "image/png": "[encoded data removed]"
          },
          "metadata": {
            "needs_background": "light"
          }
        }
      ]
    },
    {
      "cell_type": "markdown",
      "source": [
        "A maior parte dos inscritos no ENEM possui pai / mãe com escolaridade Ensino Médio completo porém sem Ensino Superior concluído. A renda familiar mais comum entre os inscritos está na faixa de Até R$ 1.100,00.\n",
        "\n",
        "Notas\n",
        "Primeiramente, será avaliado o índice de comparecimento a ambos os dias de prova."
      ],
      "metadata": {
        "id": "DrQVCyK7hFde"
      }
    },
    {
      "cell_type": "code",
      "source": [
        "#Candidatos presentes nos dois dias de prova\n",
        "((data['TP_PRESENCA_D1']=='Presente')&(data['TP_PRESENCA_D2']=='Presente')).sum()/data.shape[0]\n"
      ],
      "metadata": {
        "colab": {
          "base_uri": "https://localhost:8080/"
        },
        "id": "WfAXOxJnhHgT",
        "outputId": "cc325395-d99d-47d0-9dae-0da7b1a8df9f"
      },
      "execution_count": null,
      "outputs": [
        {
          "output_type": "execute_result",
          "data": {
            "text/plain": [
              "0.7265526515204298"
            ]
          },
          "metadata": {},
          "execution_count": 69
        }
      ]
    },
    {
      "cell_type": "code",
      "source": [
        "plt.figure(figsize=[9,3])\n",
        "plt.subplot(1, 2, 1)\n",
        "ax = sns.countplot(x=data['TP_PRESENCA_D1'],order=['Presente','Faltou', 'Eliminado'])\n",
        "ax.set(xlabel=None)\n",
        "plt.ylabel(\"Número de Candidatos\")\n",
        "plt.title('Presença Dia 1')\n",
        "plt.subplot(1, 2, 2)\n",
        "ax = sns.countplot(x=data['TP_PRESENCA_D2'],order=['Presente','Faltou', 'Eliminado'])\n",
        "ax.set(xlabel=None, ylabel =None)\n",
        "plt.title('Presença Dia 2')\n",
        "plt.show()\n"
      ],
      "metadata": {
        "colab": {
          "base_uri": "https://localhost:8080/",
          "height": 229
        },
        "id": "qHcxNKVFhNTd",
        "outputId": "dc2a1c73-a855-49d9-e419-5d17fe36631e"
      },
      "execution_count": null,
      "outputs": [
        {
          "output_type": "display_data",
          "data": {
            "text/plain": [
              "<Figure size 648x216 with 2 Axes>"
            ],
            "image/png": "[encoded data removed]"
          },
          "metadata": {
            "needs_background": "light"
          }
        }
      ]
    },
    {
      "cell_type": "markdown",
      "source": [
        "Observa-se que apenas 72% dos candidatos estiveram presentes nos dois dias prova.\n",
        "\n",
        "As notas dos candidatos são divididas entre as quatro áreas de conhecimento: linguagens e códigos (LC), ciências humanas (CH), ciências da natureza (CN) e matemática (MT) e a nota de redação. Para uso como critério de seleção, cada instituição pode atribuir um peso para cada nota e assim calcular uma nota global através de média ponderada. Neste caso, iremos considerar que todas as notas possuem o mesmo peso, para geral um campo 'NOTA_GERAL', a fim de realizar comparações."
      ],
      "metadata": {
        "id": "IM60wKXFhUe6"
      }
    },
    {
      "cell_type": "code",
      "source": [
        "data['NOTA_GERAL'] = (data['NU_NOTA_CN']+ data['NU_NOTA_CH']+ data['NU_NOTA_LC']+ data['NU_NOTA_MT'] + data['NU_NOTA_REDACAO'])/5.0\n",
        "\n"
      ],
      "metadata": {
        "id": "GmVoBEOXhYov"
      },
      "execution_count": null,
      "outputs": []
    },
    {
      "cell_type": "code",
      "source": [
        "colunas = ['NU_NOTA_CN', 'NU_NOTA_CH', 'NU_NOTA_LC', 'NU_NOTA_MT', 'NU_NOTA_REDACAO', 'NOTA_GERAL', 'TP_STATUS_REDACAO']\n",
        "notas = data[colunas]\n"
      ],
      "metadata": {
        "id": "03n-MPEDhcTL"
      },
      "execution_count": null,
      "outputs": []
    },
    {
      "cell_type": "code",
      "source": [
        "notas.describe().applymap(\"{0:.1f}\".format)\n"
      ],
      "metadata": {
        "colab": {
          "base_uri": "https://localhost:8080/",
          "height": 364
        },
        "id": "3K7j1W_WhfE0",
        "outputId": "8958a515-2afa-44dd-a66f-6cdcc3fc1a28"
      },
      "execution_count": null,
      "outputs": [
        {
          "output_type": "execute_result",
          "data": {
            "text/plain": [
              "      NU_NOTA_CN NU_NOTA_CH NU_NOTA_LC NU_NOTA_MT NU_NOTA_REDACAO NOTA_GERAL\n",
              "count  3710335.0  3923046.0  3923046.0  3710335.0       3923045.0  3701909.0\n",
              "mean       477.8      507.2      520.5      523.1           571.2      522.6\n",
              "std         76.1       82.4       64.2      109.1           188.8       83.7\n",
              "min          0.0        0.0        0.0        0.0             0.0        0.0\n",
              "25%        417.8      447.9      483.5      435.1           480.0      464.0\n",
              "50%        470.3      510.6      526.2      501.1           580.0      515.0\n",
              "75%        533.2      566.6      565.3      597.8           680.0      576.7\n",
              "max        860.9      835.1      801.7      985.5          1000.0      850.8"
            ],
            "text/html": [
              "\n",
              "  <div id=\"df-5380c3cb-8018-4215-b2c5-4aa016b46686\">\n",
              "    <div class=\"colab-df-container\">\n",
              "      <div>\n",
              "<style scoped>\n",
              "    .dataframe tbody tr th:only-of-type {\n",
              "        vertical-align: middle;\n",
              "    }\n",
              "\n",
              "    .dataframe tbody tr th {\n",
              "        vertical-align: top;\n",
              "    }\n",
              "\n",
              "    .dataframe thead th {\n",
              "        text-align: right;\n",
              "    }\n",
              "</style>\n",
              "<table border=\"1\" class=\"dataframe\">\n",
              "  <thead>\n",
              "    <tr style=\"text-align: right;\">\n",
              "      <th></th>\n",
              "      <th>NU_NOTA_CN</th>\n",
              "      <th>NU_NOTA_CH</th>\n",
              "      <th>NU_NOTA_LC</th>\n",
              "      <th>NU_NOTA_MT</th>\n",
              "      <th>NU_NOTA_REDACAO</th>\n",
              "      <th>NOTA_GERAL</th>\n",
              "    </tr>\n",
              "  </thead>\n",
              "  <tbody>\n",
              "    <tr>\n",
              "      <th>count</th>\n",
              "      <td>3710335.0</td>\n",
              "      <td>3923046.0</td>\n",
              "      <td>3923046.0</td>\n",
              "      <td>3710335.0</td>\n",
              "      <td>3923045.0</td>\n",
              "      <td>3701909.0</td>\n",
              "    </tr>\n",
              "    <tr>\n",
              "      <th>mean</th>\n",
              "      <td>477.8</td>\n",
              "      <td>507.2</td>\n",
              "      <td>520.5</td>\n",
              "      <td>523.1</td>\n",
              "      <td>571.2</td>\n",
              "      <td>522.6</td>\n",
              "    </tr>\n",
              "    <tr>\n",
              "      <th>std</th>\n",
              "      <td>76.1</td>\n",
              "      <td>82.4</td>\n",
              "      <td>64.2</td>\n",
              "      <td>109.1</td>\n",
              "      <td>188.8</td>\n",
              "      <td>83.7</td>\n",
              "    </tr>\n",
              "    <tr>\n",
              "      <th>min</th>\n",
              "      <td>0.0</td>\n",
              "      <td>0.0</td>\n",
              "      <td>0.0</td>\n",
              "      <td>0.0</td>\n",
              "      <td>0.0</td>\n",
              "      <td>0.0</td>\n",
              "    </tr>\n",
              "    <tr>\n",
              "      <th>25%</th>\n",
              "      <td>417.8</td>\n",
              "      <td>447.9</td>\n",
              "      <td>483.5</td>\n",
              "      <td>435.1</td>\n",
              "      <td>480.0</td>\n",
              "      <td>464.0</td>\n",
              "    </tr>\n",
              "    <tr>\n",
              "      <th>50%</th>\n",
              "      <td>470.3</td>\n",
              "      <td>510.6</td>\n",
              "      <td>526.2</td>\n",
              "      <td>501.1</td>\n",
              "      <td>580.0</td>\n",
              "      <td>515.0</td>\n",
              "    </tr>\n",
              "    <tr>\n",
              "      <th>75%</th>\n",
              "      <td>533.2</td>\n",
              "      <td>566.6</td>\n",
              "      <td>565.3</td>\n",
              "      <td>597.8</td>\n",
              "      <td>680.0</td>\n",
              "      <td>576.7</td>\n",
              "    </tr>\n",
              "    <tr>\n",
              "      <th>max</th>\n",
              "      <td>860.9</td>\n",
              "      <td>835.1</td>\n",
              "      <td>801.7</td>\n",
              "      <td>985.5</td>\n",
              "      <td>1000.0</td>\n",
              "      <td>850.8</td>\n",
              "    </tr>\n",
              "  </tbody>\n",
              "</table>\n",
              "</div>\n",
              "      <button class=\"colab-df-convert\" onclick=\"convertToInteractive('df-5380c3cb-8018-4215-b2c5-4aa016b46686')\"\n",
              "              title=\"Convert this dataframe to an interactive table.\"\n",
              "              style=\"display:none;\">\n",
              "        \n",
              "  <svg xmlns=\"http://www.w3.org/2000/svg\" height=\"24px\"viewBox=\"0 0 24 24\"\n",
              "       width=\"24px\">\n",
              "    <path d=\"M0 0h24v24H0V0z\" fill=\"none\"/>\n",
              "    <path d=\"M18.56 5.44l.94 2.06.94-2.06 2.06-.94-2.06-.94-.94-2.06-.94 2.06-2.06.94zm-11 1L8.5 8.5l.94-2.06 2.06-.94-2.06-.94L8.5 2.5l-.94 2.06-2.06.94zm10 10l.94 2.06.94-2.06 2.06-.94-2.06-.94-.94-2.06-.94 2.06-2.06.94z\"/><path d=\"M17.41 7.96l-1.37-1.37c-.4-.4-.92-.59-1.43-.59-.52 0-1.04.2-1.43.59L10.3 9.45l-7.72 7.72c-.78.78-.78 2.05 0 2.83L4 21.41c.39.39.9.59 1.41.59.51 0 1.02-.2 1.41-.59l7.78-7.78 2.81-2.81c.8-.78.8-2.07 0-2.86zM5.41 20L4 18.59l7.72-7.72 1.47 1.35L5.41 20z\"/>\n",
              "  </svg>\n",
              "      </button>\n",
              "      \n",
              "  <style>\n",
              "    .colab-df-container {\n",
              "      display:flex;\n",
              "      flex-wrap:wrap;\n",
              "      gap: 12px;\n",
              "    }\n",
              "\n",
              "    .colab-df-convert {\n",
              "      background-color: #E8F0FE;\n",
              "      border: none;\n",
              "      border-radius: 50%;\n",
              "      cursor: pointer;\n",
              "      display: none;\n",
              "      fill: #1967D2;\n",
              "      height: 32px;\n",
              "      padding: 0 0 0 0;\n",
              "      width: 32px;\n",
              "    }\n",
              "\n",
              "    .colab-df-convert:hover {\n",
              "      background-color: #E2EBFA;\n",
              "      box-shadow: 0px 1px 2px rgba(60, 64, 67, 0.3), 0px 1px 3px 1px rgba(60, 64, 67, 0.15);\n",
              "      fill: #174EA6;\n",
              "    }\n",
              "\n",
              "    [theme=dark] .colab-df-convert {\n",
              "      background-color: #3B4455;\n",
              "      fill: #D2E3FC;\n",
              "    }\n",
              "\n",
              "    [theme=dark] .colab-df-convert:hover {\n",
              "      background-color: #434B5C;\n",
              "      box-shadow: 0px 1px 3px 1px rgba(0, 0, 0, 0.15);\n",
              "      filter: drop-shadow(0px 1px 2px rgba(0, 0, 0, 0.3));\n",
              "      fill: #FFFFFF;\n",
              "    }\n",
              "  </style>\n",
              "\n",
              "      <script>\n",
              "        const buttonEl =\n",
              "          document.querySelector('#df-5380c3cb-8018-4215-b2c5-4aa016b46686 button.colab-df-convert');\n",
              "        buttonEl.style.display =\n",
              "          google.colab.kernel.accessAllowed ? 'block' : 'none';\n",
              "\n",
              "        async function convertToInteractive(key) {\n",
              "          const element = document.querySelector('#df-5380c3cb-8018-4215-b2c5-4aa016b46686');\n",
              "          const dataTable =\n",
              "            await google.colab.kernel.invokeFunction('convertToInteractive',\n",
              "                                                     [key], {});\n",
              "          if (!dataTable) return;\n",
              "\n",
              "          const docLinkHtml = 'Like what you see? Visit the ' +\n",
              "            '<a target=\"_blank\" href=https://colab.research.google.com/notebooks/data_table.ipynb>data table notebook</a>'\n",
              "            + ' to learn more about interactive tables.';\n",
              "          element.innerHTML = '';\n",
              "          dataTable['output_type'] = 'display_data';\n",
              "          await google.colab.output.renderOutput(dataTable, element);\n",
              "          const docLink = document.createElement('div');\n",
              "          docLink.innerHTML = docLinkHtml;\n",
              "          element.appendChild(docLink);\n",
              "        }\n",
              "      </script>\n",
              "    </div>\n",
              "  </div>\n",
              "  "
            ]
          },
          "metadata": {},
          "execution_count": 73
        }
      ]
    },
    {
      "cell_type": "code",
      "source": [
        "fig =plt.figure(figsize=[15,8])\n",
        "plt.subplot(2, 3, 1)\n",
        "ax = sns.histplot(notas['NU_NOTA_CN'], bins = 50)\n",
        "ax.set(xlabel = 'Ciências Natureza', ylabel = 'Número de Participantes')\n",
        "plt.subplot(2, 3, 2)\n",
        "ax = sns.histplot(notas['NU_NOTA_MT'], bins = 50)\n",
        "ax.set(xlabel = 'Matemática', ylabel = None)\n",
        "plt.subplot(2, 3, 3)\n",
        "ax = sns.histplot(notas['NU_NOTA_REDACAO'], bins = 50)\n",
        "ax.set(xlabel = 'Redação', ylabel = None)\n",
        "plt.subplot(2, 3, 4)\n",
        "ax =sns.histplot(notas['NU_NOTA_LC'], bins = 50)\n",
        "ax.set(xlabel = 'Linguagens e Códigos', ylabel = 'Número de Participantes')\n",
        "plt.subplot(2, 3, 5)\n",
        "ax = sns.histplot(notas['NU_NOTA_CH'], bins = 50)\n",
        "ax.set(xlabel = 'Ciências Humanas', ylabel = None)\n",
        "fig.suptitle('Distribuição de Notas', y =0.92)\n",
        "plt.show()\n"
      ],
      "metadata": {
        "colab": {
          "base_uri": "https://localhost:8080/",
          "height": 364
        },
        "id": "HXHrTEuhhn2K",
        "outputId": "816a69c9-172c-4100-a855-72067ce84ba9"
      },
      "execution_count": null,
      "outputs": [
        {
          "output_type": "display_data",
          "data": {
            "text/plain": [
              "<Figure size 1080x576 with 5 Axes>"
            ],
            "image/png": "[encoded data removed]"
          },
          "metadata": {
            "needs_background": "light"
          }
        }
      ]
    },
    {
      "cell_type": "code",
      "source": [
        "redacao_1000 = (data['NU_NOTA_REDACAO']==1000).sum()\n",
        "redacao_0 = (data['NU_NOTA_REDACAO']==0).sum()\n",
        "print('Participantes com nota máxima :', redacao_1000)\n",
        "print('Participantes com nota zero :', redacao_0)\n",
        "\n"
      ],
      "metadata": {
        "colab": {
          "base_uri": "https://localhost:8080/"
        },
        "id": "dSefJgcYhv-O",
        "outputId": "75d821cb-c795-4767-bcc7-484aa3350019"
      },
      "execution_count": null,
      "outputs": [
        {
          "output_type": "stream",
          "name": "stdout",
          "text": [
            "Participantes com nota máxima : 53\n",
            "Participantes com nota zero : 143689\n"
          ]
        }
      ]
    },
    {
      "cell_type": "code",
      "source": [
        "redacao_zero = notas[notas['TP_STATUS_REDACAO'] != 'Sem problemas']['TP_STATUS_REDACAO'].value_counts()\n"
      ],
      "metadata": {
        "id": "eYZm-TTsh1cP"
      },
      "execution_count": null,
      "outputs": []
    },
    {
      "cell_type": "code",
      "source": [
        "plt.figure(figsize = [9,4])\n",
        "sns.barplot(y=redacao_zero.index, x=redacao_zero.values, color ='royalblue')\n",
        "plt.title('Motivo para Nota Zero na Redação')\n",
        "plt.show()\n"
      ],
      "metadata": {
        "colab": {
          "base_uri": "https://localhost:8080/",
          "height": 255
        },
        "id": "XjPSprJNh43F",
        "outputId": "31c50b38-9412-4e82-ee16-8a44458879ab"
      },
      "execution_count": null,
      "outputs": [
        {
          "output_type": "display_data",
          "data": {
            "text/plain": [
              "<Figure size 648x288 with 1 Axes>"
            ],
            "image/png": "[encoded data removed]"
          },
          "metadata": {
            "needs_background": "light"
          }
        }
      ]
    },
    {
      "cell_type": "markdown",
      "source": [
        "Relação entre notas de cada área"
      ],
      "metadata": {
        "id": "fo-7NArdh8db"
      }
    },
    {
      "cell_type": "code",
      "source": [
        "plt.figure(figsize = [8, 6])\n",
        "sns.heatmap(notas.corr(), annot = True, fmt = '.3f',\n",
        "           cmap = 'vlag_r', center = 0)\n",
        "plt.show()"
      ],
      "metadata": {
        "colab": {
          "base_uri": "https://localhost:8080/",
          "height": 482
        },
        "id": "-23rZDeoh-J4",
        "outputId": "e45a37d9-a57a-494d-a50b-1d8a5a7afb69"
      },
      "execution_count": null,
      "outputs": [
        {
          "output_type": "display_data",
          "data": {
            "text/plain": [
              "<Figure size 576x432 with 2 Axes>"
            ],
            "image/png": "[encoded data removed]"
          },
          "metadata": {
            "needs_background": "light"
          }
        }
      ]
    },
    {
      "cell_type": "markdown",
      "source": [
        "Percebe-se que há correlação positiva entre as notas das quatro provas e a redação feitas por um candidato. Esta correlação é mais forte quando considera-se apenas as provas objetivas e não se considera a redação.\n",
        "\n",
        "Análise Relação entre Desempenho e Perfil de Candidato\n",
        "Voltar ao índice\n",
        "\n",
        "Para esta análise será considerado o desempenho apenas dos participantes presentes nos dois dias de prova. Deseja-se quais características do candidatos podem estar relacionadas a um melhor desempenho, representado pela nota geral, gerada anteriormente."
      ],
      "metadata": {
        "id": "2pW7KDiViIUX"
      }
    },
    {
      "cell_type": "code",
      "source": [
        "#Remover dados nulos de notas\n",
        "data = data.dropna()\n"
      ],
      "metadata": {
        "id": "5YZtbUz2iDp9"
      },
      "execution_count": null,
      "outputs": []
    },
    {
      "cell_type": "code",
      "source": [
        "def boxplot_nota(coluna, label, legenda =None, x=8, y=500):\n",
        "    sns.boxplot(x= coluna, y='NOTA_GERAL', data=data)\n",
        "    plt.ylabel('Nota Geral')\n",
        "    plt.xlabel(None)\n",
        "    plt.title('Nota Geral por '+label)\n",
        "    if legenda:\n",
        "        plt.text(x=x,y=y, s=legenda)\n",
        "    plt.show()"
      ],
      "metadata": {
        "id": "mTyeqIBLiPio"
      },
      "execution_count": null,
      "outputs": []
    },
    {
      "cell_type": "code",
      "source": [
        "boxplot_nota('TP_SEXO', 'Sexo')\n"
      ],
      "metadata": {
        "colab": {
          "base_uri": "https://localhost:8080/",
          "height": 284
        },
        "id": "afI0Q99ciTRT",
        "outputId": "be0f3102-0737-4430-e777-74cbe4736ef8"
      },
      "execution_count": null,
      "outputs": [
        {
          "output_type": "display_data",
          "data": {
            "text/plain": [
              "<Figure size 432x288 with 1 Axes>"
            ],
            "image/png": "[encoded data removed]"
          },
          "metadata": {
            "needs_background": "light"
          }
        }
      ]
    },
    {
      "cell_type": "code",
      "source": [
        "boxplot_nota('REGIAO_PROVA', 'Região')\n"
      ],
      "metadata": {
        "colab": {
          "base_uri": "https://localhost:8080/",
          "height": 284
        },
        "id": "k6X_Ns5ViXnm",
        "outputId": "a439025b-3e06-415d-df8c-83851b3a9fa8"
      },
      "execution_count": null,
      "outputs": [
        {
          "output_type": "display_data",
          "data": {
            "text/plain": [
              "<Figure size 432x288 with 1 Axes>"
            ],
            "image/png": "[encoded data removed]"
          },
          "metadata": {
            "needs_background": "light"
          }
        }
      ]
    },
    {
      "cell_type": "code",
      "source": [
        "plt.figure(figsize =[9,4])\n",
        "boxplot_nota('TP_COR_RACA', 'Cor / Raça')\n",
        "\n"
      ],
      "metadata": {
        "colab": {
          "base_uri": "https://localhost:8080/",
          "height": 284
        },
        "id": "QPlVuOQGibVK",
        "outputId": "577072d1-6f12-4c5d-fdcc-449141a0252a"
      },
      "execution_count": null,
      "outputs": [
        {
          "output_type": "display_data",
          "data": {
            "text/plain": [
              "<Figure size 648x288 with 1 Axes>"
            ],
            "image/png": "[encoded data removed]"
          },
          "metadata": {
            "needs_background": "light"
          }
        }
      ]
    },
    {
      "cell_type": "code",
      "source": [
        "boxplot_nota('IN_TREINEIRO', 'Status Treineiro')\n",
        "\n"
      ],
      "metadata": {
        "colab": {
          "base_uri": "https://localhost:8080/",
          "height": 284
        },
        "id": "ccIGH5O7ieYl",
        "outputId": "e6cd96ee-07f1-47ed-b3d7-c7f0dc8215c7"
      },
      "execution_count": null,
      "outputs": [
        {
          "output_type": "display_data",
          "data": {
            "text/plain": [
              "<Figure size 432x288 with 1 Axes>"
            ],
            "image/png": "[encoded data removed]"
          },
          "metadata": {
            "needs_background": "light"
          }
        }
      ]
    },
    {
      "cell_type": "code",
      "source": [
        "plt.figure(figsize = [10,4])\n",
        "boxplot_nota('TP_ST_CONCLUSAO', 'Status Conclusão Ensino Médio')\n",
        "\n"
      ],
      "metadata": {
        "colab": {
          "base_uri": "https://localhost:8080/",
          "height": 282
        },
        "id": "7qlxauppih6k",
        "outputId": "4298678b-4bc4-4dcc-f695-b235ecedf1d8"
      },
      "execution_count": null,
      "outputs": [
        {
          "output_type": "display_data",
          "data": {
            "text/plain": [
              "<Figure size 720x288 with 1 Axes>"
            ],
            "image/png": "[encoded data removed]"
          },
          "metadata": {
            "needs_background": "light"
          }
        }
      ]
    },
    {
      "cell_type": "code",
      "source": [
        "boxplot_nota('TP_ESCOLA', 'Tipo de Escola')\n"
      ],
      "metadata": {
        "colab": {
          "base_uri": "https://localhost:8080/",
          "height": 284
        },
        "id": "QOtzxgcYilfq",
        "outputId": "259fad85-d8ac-4fdf-864c-a5b3757c9081"
      },
      "execution_count": null,
      "outputs": [
        {
          "output_type": "display_data",
          "data": {
            "text/plain": [
              "<Figure size 432x288 with 1 Axes>"
            ],
            "image/png": "[encoded data removed]"
          },
          "metadata": {
            "needs_background": "light"
          }
        }
      ]
    },
    {
      "cell_type": "code",
      "source": [
        "boxplot_nota('Q001', 'Escolaridade do Pai', legenda = escolaridade)\n",
        "\n"
      ],
      "metadata": {
        "colab": {
          "base_uri": "https://localhost:8080/",
          "height": 205
        },
        "id": "Makq4788ioxk",
        "outputId": "6151175d-e162-4519-afa2-48c8bb464dc9"
      },
      "execution_count": null,
      "outputs": [
        {
          "output_type": "display_data",
          "data": {
            "text/plain": [
              "<Figure size 432x288 with 1 Axes>"
            ],
            "image/png": "[encoded data removed]"
          },
          "metadata": {
            "needs_background": "light"
          }
        }
      ]
    },
    {
      "cell_type": "code",
      "source": [
        "boxplot_nota('Q002', 'Escolaridade da Mãe', legenda = escolaridade)\n",
        "\n"
      ],
      "metadata": {
        "colab": {
          "base_uri": "https://localhost:8080/",
          "height": 205
        },
        "id": "L7hdtme-isTX",
        "outputId": "8327e719-ee60-47e5-8e53-72e19a862009"
      },
      "execution_count": null,
      "outputs": [
        {
          "output_type": "display_data",
          "data": {
            "text/plain": [
              "<Figure size 432x288 with 1 Axes>"
            ],
            "image/png": "[encoded data removed]"
          },
          "metadata": {
            "needs_background": "light"
          }
        }
      ]
    },
    {
      "cell_type": "code",
      "source": [
        "boxplot_nota('Q006', 'Renda Familiar', x=18, y= 100, legenda = renda)\n",
        "\n"
      ],
      "metadata": {
        "colab": {
          "base_uri": "https://localhost:8080/",
          "height": 284
        },
        "id": "Ds3iGVg-iu-I",
        "outputId": "d6a419aa-ff4a-4cbe-8a58-4d5c03024a67"
      },
      "execution_count": null,
      "outputs": [
        {
          "output_type": "display_data",
          "data": {
            "text/plain": [
              "<Figure size 432x288 with 1 Axes>"
            ],
            "image/png": "[encoded data removed]"
          },
          "metadata": {
            "needs_background": "light"
          }
        }
      ]
    },
    {
      "cell_type": "markdown",
      "source": [
        "Em geral, o desempenho de alunos que estudaram em escolas privadas mostra-se superior aos de escolas públicas. O desempenho dos candidatos parece ter influência de condições sócio-econômicas, sendo que é possível observar tendência de aumento da nota obtida com o aumento de escolaridade do pai e/ou da mãe e também com aumento da renda mensal familiar.\n",
        "\n",
        "Conclusão\n",
        "Voltar ao índice\n",
        "\n",
        "5.095.171 pessoas se inscreveram no ENEM 2019, e apenas 72% estiveram presentes nos dois dias de prova.\n",
        "\n",
        "60% dos candidatos inscritos são do sexo feminino e 40% do sexo masculino e 97,1% tem nacionalidade brasileira\n",
        "\n",
        "Dentre as raças declaradas, há predominância de candidatos da raça branca com 36% e da raça parda com 46% além da preta com 13%.\n",
        "\n",
        "A faixa etária entre 17-20 anos concentra cerca de 53% dos candidatos. Após esta faixa,o número de participantes tende a diminuir conforme a idade aumenta.\n",
        "\n",
        "O ENEM foi aplicado em todos os estados brasileiros, e em 1727 municípios."
      ],
      "metadata": {
        "id": "XVv3ZNDDi2m0"
      }
    }
  ]
}